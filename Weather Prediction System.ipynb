{
 "cells": [
  {
   "cell_type": "markdown",
   "id": "c71a9904-46b3-4742-bd70-d9e0ab67fe2a",
   "metadata": {},
   "source": [
    "# Make a Machine Learning model to predict the weather in the next 24 hours\n"
   ]
  },
  {
   "cell_type": "code",
   "execution_count": 2,
   "id": "750ecf72-14a3-4972-9750-4c48234a0958",
   "metadata": {},
   "outputs": [],
   "source": [
    "import pandas as pd\n",
    "import matplotlib.pyplot as plt\n",
    "import seaborn as sns\n",
    "import numpy as np\n"
   ]
  },
  {
   "cell_type": "code",
   "execution_count": 3,
   "id": "d8425d0b-5e4b-4552-9a37-09090ac63c90",
   "metadata": {},
   "outputs": [
    {
     "data": {
      "text/html": [
       "<div>\n",
       "<style scoped>\n",
       "    .dataframe tbody tr th:only-of-type {\n",
       "        vertical-align: middle;\n",
       "    }\n",
       "\n",
       "    .dataframe tbody tr th {\n",
       "        vertical-align: top;\n",
       "    }\n",
       "\n",
       "    .dataframe thead th {\n",
       "        text-align: right;\n",
       "    }\n",
       "</style>\n",
       "<table border=\"1\" class=\"dataframe\">\n",
       "  <thead>\n",
       "    <tr style=\"text-align: right;\">\n",
       "      <th></th>\n",
       "      <th>datetime_utc</th>\n",
       "      <th>_conds</th>\n",
       "      <th>_dewptm</th>\n",
       "      <th>_fog</th>\n",
       "      <th>_hail</th>\n",
       "      <th>_heatindexm</th>\n",
       "      <th>_hum</th>\n",
       "      <th>_precipm</th>\n",
       "      <th>_pressurem</th>\n",
       "      <th>_rain</th>\n",
       "      <th>_snow</th>\n",
       "      <th>_tempm</th>\n",
       "      <th>_thunder</th>\n",
       "      <th>_tornado</th>\n",
       "      <th>_vism</th>\n",
       "      <th>_wdird</th>\n",
       "      <th>_wdire</th>\n",
       "      <th>_wgustm</th>\n",
       "      <th>_windchillm</th>\n",
       "      <th>_wspdm</th>\n",
       "    </tr>\n",
       "  </thead>\n",
       "  <tbody>\n",
       "    <tr>\n",
       "      <th>0</th>\n",
       "      <td>19961101-11:00</td>\n",
       "      <td>Smoke</td>\n",
       "      <td>9.0</td>\n",
       "      <td>0</td>\n",
       "      <td>0</td>\n",
       "      <td>NaN</td>\n",
       "      <td>27.0</td>\n",
       "      <td>NaN</td>\n",
       "      <td>1010.0</td>\n",
       "      <td>0</td>\n",
       "      <td>0</td>\n",
       "      <td>30.0</td>\n",
       "      <td>0</td>\n",
       "      <td>0</td>\n",
       "      <td>5.0</td>\n",
       "      <td>280.0</td>\n",
       "      <td>West</td>\n",
       "      <td>NaN</td>\n",
       "      <td>NaN</td>\n",
       "      <td>7.4</td>\n",
       "    </tr>\n",
       "    <tr>\n",
       "      <th>1</th>\n",
       "      <td>19961101-12:00</td>\n",
       "      <td>Smoke</td>\n",
       "      <td>10.0</td>\n",
       "      <td>0</td>\n",
       "      <td>0</td>\n",
       "      <td>NaN</td>\n",
       "      <td>32.0</td>\n",
       "      <td>NaN</td>\n",
       "      <td>-9999.0</td>\n",
       "      <td>0</td>\n",
       "      <td>0</td>\n",
       "      <td>28.0</td>\n",
       "      <td>0</td>\n",
       "      <td>0</td>\n",
       "      <td>NaN</td>\n",
       "      <td>0.0</td>\n",
       "      <td>North</td>\n",
       "      <td>NaN</td>\n",
       "      <td>NaN</td>\n",
       "      <td>NaN</td>\n",
       "    </tr>\n",
       "    <tr>\n",
       "      <th>2</th>\n",
       "      <td>19961101-13:00</td>\n",
       "      <td>Smoke</td>\n",
       "      <td>11.0</td>\n",
       "      <td>0</td>\n",
       "      <td>0</td>\n",
       "      <td>NaN</td>\n",
       "      <td>44.0</td>\n",
       "      <td>NaN</td>\n",
       "      <td>-9999.0</td>\n",
       "      <td>0</td>\n",
       "      <td>0</td>\n",
       "      <td>24.0</td>\n",
       "      <td>0</td>\n",
       "      <td>0</td>\n",
       "      <td>NaN</td>\n",
       "      <td>0.0</td>\n",
       "      <td>North</td>\n",
       "      <td>NaN</td>\n",
       "      <td>NaN</td>\n",
       "      <td>NaN</td>\n",
       "    </tr>\n",
       "    <tr>\n",
       "      <th>3</th>\n",
       "      <td>19961101-14:00</td>\n",
       "      <td>Smoke</td>\n",
       "      <td>10.0</td>\n",
       "      <td>0</td>\n",
       "      <td>0</td>\n",
       "      <td>NaN</td>\n",
       "      <td>41.0</td>\n",
       "      <td>NaN</td>\n",
       "      <td>1010.0</td>\n",
       "      <td>0</td>\n",
       "      <td>0</td>\n",
       "      <td>24.0</td>\n",
       "      <td>0</td>\n",
       "      <td>0</td>\n",
       "      <td>2.0</td>\n",
       "      <td>0.0</td>\n",
       "      <td>North</td>\n",
       "      <td>NaN</td>\n",
       "      <td>NaN</td>\n",
       "      <td>NaN</td>\n",
       "    </tr>\n",
       "    <tr>\n",
       "      <th>4</th>\n",
       "      <td>19961101-16:00</td>\n",
       "      <td>Smoke</td>\n",
       "      <td>11.0</td>\n",
       "      <td>0</td>\n",
       "      <td>0</td>\n",
       "      <td>NaN</td>\n",
       "      <td>47.0</td>\n",
       "      <td>NaN</td>\n",
       "      <td>1011.0</td>\n",
       "      <td>0</td>\n",
       "      <td>0</td>\n",
       "      <td>23.0</td>\n",
       "      <td>0</td>\n",
       "      <td>0</td>\n",
       "      <td>1.2</td>\n",
       "      <td>0.0</td>\n",
       "      <td>North</td>\n",
       "      <td>NaN</td>\n",
       "      <td>NaN</td>\n",
       "      <td>0.0</td>\n",
       "    </tr>\n",
       "  </tbody>\n",
       "</table>\n",
       "</div>"
      ],
      "text/plain": [
       "     datetime_utc  _conds   _dewptm   _fog   _hail   _heatindexm   _hum  \\\n",
       "0  19961101-11:00   Smoke       9.0      0       0           NaN   27.0   \n",
       "1  19961101-12:00   Smoke      10.0      0       0           NaN   32.0   \n",
       "2  19961101-13:00   Smoke      11.0      0       0           NaN   44.0   \n",
       "3  19961101-14:00   Smoke      10.0      0       0           NaN   41.0   \n",
       "4  19961101-16:00   Smoke      11.0      0       0           NaN   47.0   \n",
       "\n",
       "    _precipm   _pressurem   _rain   _snow   _tempm   _thunder   _tornado  \\\n",
       "0        NaN       1010.0       0       0     30.0          0          0   \n",
       "1        NaN      -9999.0       0       0     28.0          0          0   \n",
       "2        NaN      -9999.0       0       0     24.0          0          0   \n",
       "3        NaN       1010.0       0       0     24.0          0          0   \n",
       "4        NaN       1011.0       0       0     23.0          0          0   \n",
       "\n",
       "    _vism   _wdird  _wdire   _wgustm   _windchillm   _wspdm  \n",
       "0     5.0    280.0    West       NaN           NaN      7.4  \n",
       "1     NaN      0.0   North       NaN           NaN      NaN  \n",
       "2     NaN      0.0   North       NaN           NaN      NaN  \n",
       "3     2.0      0.0   North       NaN           NaN      NaN  \n",
       "4     1.2      0.0   North       NaN           NaN      0.0  "
      ]
     },
     "execution_count": 3,
     "metadata": {},
     "output_type": "execute_result"
    }
   ],
   "source": [
    "weather= pd.read_csv('weather delhi.csv')\n",
    "weather.head()"
   ]
  },
  {
   "cell_type": "markdown",
   "id": "3d614b04-4b59-444b-aa47-8ecf1e4467aa",
   "metadata": {},
   "source": [
    "# Data Analysis"
   ]
  },
  {
   "cell_type": "markdown",
   "id": "542ea772-cef7-4fd9-95e3-45568c37f734",
   "metadata": {},
   "source": [
    "# Here we are going to consider only few of the columns which seems important for us to perform some basic EDA and time series prediction's point of view."
   ]
  },
  {
   "cell_type": "code",
   "execution_count": 4,
   "id": "9a5ac49b-5fa8-485a-afd5-e2ad40e9d351",
   "metadata": {},
   "outputs": [
    {
     "name": "stdout",
     "output_type": "stream",
     "text": [
      "<class 'pandas.core.frame.DataFrame'>\n",
      "RangeIndex: 100990 entries, 0 to 100989\n",
      "Data columns (total 20 columns):\n",
      " #   Column        Non-Null Count   Dtype  \n",
      "---  ------        --------------   -----  \n",
      " 0   datetime_utc  100990 non-null  object \n",
      " 1    _conds       100918 non-null  object \n",
      " 2    _dewptm      100369 non-null  float64\n",
      " 3    _fog         100990 non-null  int64  \n",
      " 4    _hail        100990 non-null  int64  \n",
      " 5    _heatindexm  29155 non-null   float64\n",
      " 6    _hum         100233 non-null  float64\n",
      " 7    _precipm     0 non-null       float64\n",
      " 8    _pressurem   100758 non-null  float64\n",
      " 9    _rain        100990 non-null  int64  \n",
      " 10   _snow        100990 non-null  int64  \n",
      " 11   _tempm       100317 non-null  float64\n",
      " 12   _thunder     100990 non-null  int64  \n",
      " 13   _tornado     100990 non-null  int64  \n",
      " 14   _vism        96562 non-null   float64\n",
      " 15   _wdird       86235 non-null   float64\n",
      " 16   _wdire       86235 non-null   object \n",
      " 17   _wgustm      1072 non-null    float64\n",
      " 18   _windchillm  579 non-null     float64\n",
      " 19   _wspdm       98632 non-null   float64\n",
      "dtypes: float64(11), int64(6), object(3)\n",
      "memory usage: 15.4+ MB\n"
     ]
    }
   ],
   "source": [
    "weather.info()"
   ]
  },
  {
   "cell_type": "markdown",
   "id": "4ef8e995-8786-41a8-a412-274fc9319c15",
   "metadata": {},
   "source": [
    "# Let's rename few columns for our better understanding"
   ]
  },
  {
   "cell_type": "code",
   "execution_count": 5,
   "id": "6333bbec-3833-46be-a044-9de2ef3d2a15",
   "metadata": {},
   "outputs": [],
   "source": [
    "weather.columns = map(lambda x: x.strip(), weather.columns)"
   ]
  },
  {
   "cell_type": "code",
   "execution_count": 6,
   "id": "11fb8269-82c8-407b-8e09-d9496f6be0a4",
   "metadata": {},
   "outputs": [
    {
     "data": {
      "text/html": [
       "<div>\n",
       "<style scoped>\n",
       "    .dataframe tbody tr th:only-of-type {\n",
       "        vertical-align: middle;\n",
       "    }\n",
       "\n",
       "    .dataframe tbody tr th {\n",
       "        vertical-align: top;\n",
       "    }\n",
       "\n",
       "    .dataframe thead th {\n",
       "        text-align: right;\n",
       "    }\n",
       "</style>\n",
       "<table border=\"1\" class=\"dataframe\">\n",
       "  <thead>\n",
       "    <tr style=\"text-align: right;\">\n",
       "      <th></th>\n",
       "      <th>count</th>\n",
       "      <th>mean</th>\n",
       "      <th>std</th>\n",
       "      <th>min</th>\n",
       "      <th>25%</th>\n",
       "      <th>50%</th>\n",
       "      <th>75%</th>\n",
       "      <th>max</th>\n",
       "    </tr>\n",
       "  </thead>\n",
       "  <tbody>\n",
       "    <tr>\n",
       "      <th>_dewptm</th>\n",
       "      <td>100369.0</td>\n",
       "      <td>15.741205</td>\n",
       "      <td>7.058587</td>\n",
       "      <td>-24.0</td>\n",
       "      <td>10.0</td>\n",
       "      <td>15.0</td>\n",
       "      <td>22.0</td>\n",
       "      <td>75.0</td>\n",
       "    </tr>\n",
       "    <tr>\n",
       "      <th>_fog</th>\n",
       "      <td>100990.0</td>\n",
       "      <td>0.069690</td>\n",
       "      <td>0.254625</td>\n",
       "      <td>0.0</td>\n",
       "      <td>0.0</td>\n",
       "      <td>0.0</td>\n",
       "      <td>0.0</td>\n",
       "      <td>1.0</td>\n",
       "    </tr>\n",
       "    <tr>\n",
       "      <th>_hail</th>\n",
       "      <td>100990.0</td>\n",
       "      <td>0.000129</td>\n",
       "      <td>0.011345</td>\n",
       "      <td>0.0</td>\n",
       "      <td>0.0</td>\n",
       "      <td>0.0</td>\n",
       "      <td>0.0</td>\n",
       "      <td>1.0</td>\n",
       "    </tr>\n",
       "    <tr>\n",
       "      <th>_heatindexm</th>\n",
       "      <td>29155.0</td>\n",
       "      <td>35.651710</td>\n",
       "      <td>5.015384</td>\n",
       "      <td>26.8</td>\n",
       "      <td>31.7</td>\n",
       "      <td>35.1</td>\n",
       "      <td>39.2</td>\n",
       "      <td>73.6</td>\n",
       "    </tr>\n",
       "    <tr>\n",
       "      <th>_hum</th>\n",
       "      <td>100233.0</td>\n",
       "      <td>57.909481</td>\n",
       "      <td>23.807771</td>\n",
       "      <td>4.0</td>\n",
       "      <td>39.0</td>\n",
       "      <td>59.0</td>\n",
       "      <td>78.0</td>\n",
       "      <td>243.0</td>\n",
       "    </tr>\n",
       "    <tr>\n",
       "      <th>_precipm</th>\n",
       "      <td>0.0</td>\n",
       "      <td>NaN</td>\n",
       "      <td>NaN</td>\n",
       "      <td>NaN</td>\n",
       "      <td>NaN</td>\n",
       "      <td>NaN</td>\n",
       "      <td>NaN</td>\n",
       "      <td>NaN</td>\n",
       "    </tr>\n",
       "    <tr>\n",
       "      <th>_pressurem</th>\n",
       "      <td>100758.0</td>\n",
       "      <td>1932.330949</td>\n",
       "      <td>318378.642492</td>\n",
       "      <td>-9999.0</td>\n",
       "      <td>1002.0</td>\n",
       "      <td>1008.0</td>\n",
       "      <td>1014.0</td>\n",
       "      <td>101061443.0</td>\n",
       "    </tr>\n",
       "    <tr>\n",
       "      <th>_rain</th>\n",
       "      <td>100990.0</td>\n",
       "      <td>0.026260</td>\n",
       "      <td>0.159908</td>\n",
       "      <td>0.0</td>\n",
       "      <td>0.0</td>\n",
       "      <td>0.0</td>\n",
       "      <td>0.0</td>\n",
       "      <td>1.0</td>\n",
       "    </tr>\n",
       "    <tr>\n",
       "      <th>_snow</th>\n",
       "      <td>100990.0</td>\n",
       "      <td>0.000010</td>\n",
       "      <td>0.003147</td>\n",
       "      <td>0.0</td>\n",
       "      <td>0.0</td>\n",
       "      <td>0.0</td>\n",
       "      <td>0.0</td>\n",
       "      <td>1.0</td>\n",
       "    </tr>\n",
       "    <tr>\n",
       "      <th>_tempm</th>\n",
       "      <td>100317.0</td>\n",
       "      <td>25.451269</td>\n",
       "      <td>8.482859</td>\n",
       "      <td>1.0</td>\n",
       "      <td>19.0</td>\n",
       "      <td>27.0</td>\n",
       "      <td>32.0</td>\n",
       "      <td>90.0</td>\n",
       "    </tr>\n",
       "    <tr>\n",
       "      <th>_thunder</th>\n",
       "      <td>100990.0</td>\n",
       "      <td>0.009427</td>\n",
       "      <td>0.096633</td>\n",
       "      <td>0.0</td>\n",
       "      <td>0.0</td>\n",
       "      <td>0.0</td>\n",
       "      <td>0.0</td>\n",
       "      <td>1.0</td>\n",
       "    </tr>\n",
       "    <tr>\n",
       "      <th>_tornado</th>\n",
       "      <td>100990.0</td>\n",
       "      <td>0.000020</td>\n",
       "      <td>0.004450</td>\n",
       "      <td>0.0</td>\n",
       "      <td>0.0</td>\n",
       "      <td>0.0</td>\n",
       "      <td>0.0</td>\n",
       "      <td>1.0</td>\n",
       "    </tr>\n",
       "    <tr>\n",
       "      <th>_vism</th>\n",
       "      <td>96562.0</td>\n",
       "      <td>2.402774</td>\n",
       "      <td>20.746028</td>\n",
       "      <td>0.0</td>\n",
       "      <td>1.5</td>\n",
       "      <td>2.0</td>\n",
       "      <td>3.0</td>\n",
       "      <td>6436.0</td>\n",
       "    </tr>\n",
       "    <tr>\n",
       "      <th>_wdird</th>\n",
       "      <td>86235.0</td>\n",
       "      <td>163.549974</td>\n",
       "      <td>120.002076</td>\n",
       "      <td>0.0</td>\n",
       "      <td>50.0</td>\n",
       "      <td>160.0</td>\n",
       "      <td>270.0</td>\n",
       "      <td>960.0</td>\n",
       "    </tr>\n",
       "    <tr>\n",
       "      <th>_wgustm</th>\n",
       "      <td>1072.0</td>\n",
       "      <td>37.671175</td>\n",
       "      <td>6.848666</td>\n",
       "      <td>25.9</td>\n",
       "      <td>33.3</td>\n",
       "      <td>37.0</td>\n",
       "      <td>40.7</td>\n",
       "      <td>92.6</td>\n",
       "    </tr>\n",
       "    <tr>\n",
       "      <th>_windchillm</th>\n",
       "      <td>579.0</td>\n",
       "      <td>5.713817</td>\n",
       "      <td>1.203290</td>\n",
       "      <td>2.1</td>\n",
       "      <td>4.9</td>\n",
       "      <td>6.1</td>\n",
       "      <td>6.8</td>\n",
       "      <td>7.3</td>\n",
       "    </tr>\n",
       "    <tr>\n",
       "      <th>_wspdm</th>\n",
       "      <td>98632.0</td>\n",
       "      <td>7.678463</td>\n",
       "      <td>11.932157</td>\n",
       "      <td>0.0</td>\n",
       "      <td>0.0</td>\n",
       "      <td>7.4</td>\n",
       "      <td>11.1</td>\n",
       "      <td>1514.9</td>\n",
       "    </tr>\n",
       "  </tbody>\n",
       "</table>\n",
       "</div>"
      ],
      "text/plain": [
       "                count         mean            std     min     25%     50%  \\\n",
       "_dewptm      100369.0    15.741205       7.058587   -24.0    10.0    15.0   \n",
       "_fog         100990.0     0.069690       0.254625     0.0     0.0     0.0   \n",
       "_hail        100990.0     0.000129       0.011345     0.0     0.0     0.0   \n",
       "_heatindexm   29155.0    35.651710       5.015384    26.8    31.7    35.1   \n",
       "_hum         100233.0    57.909481      23.807771     4.0    39.0    59.0   \n",
       "_precipm          0.0          NaN            NaN     NaN     NaN     NaN   \n",
       "_pressurem   100758.0  1932.330949  318378.642492 -9999.0  1002.0  1008.0   \n",
       "_rain        100990.0     0.026260       0.159908     0.0     0.0     0.0   \n",
       "_snow        100990.0     0.000010       0.003147     0.0     0.0     0.0   \n",
       "_tempm       100317.0    25.451269       8.482859     1.0    19.0    27.0   \n",
       "_thunder     100990.0     0.009427       0.096633     0.0     0.0     0.0   \n",
       "_tornado     100990.0     0.000020       0.004450     0.0     0.0     0.0   \n",
       "_vism         96562.0     2.402774      20.746028     0.0     1.5     2.0   \n",
       "_wdird        86235.0   163.549974     120.002076     0.0    50.0   160.0   \n",
       "_wgustm        1072.0    37.671175       6.848666    25.9    33.3    37.0   \n",
       "_windchillm     579.0     5.713817       1.203290     2.1     4.9     6.1   \n",
       "_wspdm        98632.0     7.678463      11.932157     0.0     0.0     7.4   \n",
       "\n",
       "                75%          max  \n",
       "_dewptm        22.0         75.0  \n",
       "_fog            0.0          1.0  \n",
       "_hail           0.0          1.0  \n",
       "_heatindexm    39.2         73.6  \n",
       "_hum           78.0        243.0  \n",
       "_precipm        NaN          NaN  \n",
       "_pressurem   1014.0  101061443.0  \n",
       "_rain           0.0          1.0  \n",
       "_snow           0.0          1.0  \n",
       "_tempm         32.0         90.0  \n",
       "_thunder        0.0          1.0  \n",
       "_tornado        0.0          1.0  \n",
       "_vism           3.0       6436.0  \n",
       "_wdird        270.0        960.0  \n",
       "_wgustm        40.7         92.6  \n",
       "_windchillm     6.8          7.3  \n",
       "_wspdm         11.1       1514.9  "
      ]
     },
     "execution_count": 6,
     "metadata": {},
     "output_type": "execute_result"
    }
   ],
   "source": [
    "weather.describe().T"
   ]
  },
  {
   "cell_type": "code",
   "execution_count": 7,
   "id": "4da950b1-f6e3-4456-abed-12cf17e1d6ab",
   "metadata": {},
   "outputs": [
    {
     "data": {
      "text/plain": [
       "datetime_utc    100990\n",
       "_conds              39\n",
       "_dewptm             51\n",
       "_fog                 2\n",
       "_hail                2\n",
       "_heatindexm        193\n",
       "_hum               100\n",
       "_precipm             0\n",
       "_pressurem         139\n",
       "_rain                2\n",
       "_snow                2\n",
       "_tempm              50\n",
       "_thunder             2\n",
       "_tornado             2\n",
       "_vism               48\n",
       "_wdird              63\n",
       "_wdire              17\n",
       "_wgustm             22\n",
       "_windchillm         20\n",
       "_wspdm              90\n",
       "dtype: int64"
      ]
     },
     "execution_count": 7,
     "metadata": {},
     "output_type": "execute_result"
    }
   ],
   "source": [
    "weather.nunique()"
   ]
  },
  {
   "cell_type": "code",
   "execution_count": 8,
   "id": "264e1ed9-f753-4a69-ab62-f1204d9750a6",
   "metadata": {},
   "outputs": [
    {
     "data": {
      "text/html": [
       "<div>\n",
       "<style scoped>\n",
       "    .dataframe tbody tr th:only-of-type {\n",
       "        vertical-align: middle;\n",
       "    }\n",
       "\n",
       "    .dataframe tbody tr th {\n",
       "        vertical-align: top;\n",
       "    }\n",
       "\n",
       "    .dataframe thead th {\n",
       "        text-align: right;\n",
       "    }\n",
       "</style>\n",
       "<table border=\"1\" class=\"dataframe\">\n",
       "  <thead>\n",
       "    <tr style=\"text-align: right;\">\n",
       "      <th></th>\n",
       "      <th>datetime_utc</th>\n",
       "      <th>_conds</th>\n",
       "      <th>_dewptm</th>\n",
       "      <th>_fog</th>\n",
       "      <th>_hail</th>\n",
       "      <th>_hum</th>\n",
       "      <th>_pressurem</th>\n",
       "      <th>_rain</th>\n",
       "      <th>_snow</th>\n",
       "      <th>_tempm</th>\n",
       "      <th>_thunder</th>\n",
       "      <th>_tornado</th>\n",
       "      <th>_vism</th>\n",
       "      <th>_wdird</th>\n",
       "      <th>_wspdm</th>\n",
       "    </tr>\n",
       "  </thead>\n",
       "  <tbody>\n",
       "    <tr>\n",
       "      <th>0</th>\n",
       "      <td>19961101-11:00</td>\n",
       "      <td>Smoke</td>\n",
       "      <td>9.0</td>\n",
       "      <td>0</td>\n",
       "      <td>0</td>\n",
       "      <td>27.0</td>\n",
       "      <td>1010.0</td>\n",
       "      <td>0</td>\n",
       "      <td>0</td>\n",
       "      <td>30.0</td>\n",
       "      <td>0</td>\n",
       "      <td>0</td>\n",
       "      <td>5.0</td>\n",
       "      <td>280.0</td>\n",
       "      <td>7.4</td>\n",
       "    </tr>\n",
       "    <tr>\n",
       "      <th>1</th>\n",
       "      <td>19961101-12:00</td>\n",
       "      <td>Smoke</td>\n",
       "      <td>10.0</td>\n",
       "      <td>0</td>\n",
       "      <td>0</td>\n",
       "      <td>32.0</td>\n",
       "      <td>-9999.0</td>\n",
       "      <td>0</td>\n",
       "      <td>0</td>\n",
       "      <td>28.0</td>\n",
       "      <td>0</td>\n",
       "      <td>0</td>\n",
       "      <td>NaN</td>\n",
       "      <td>0.0</td>\n",
       "      <td>NaN</td>\n",
       "    </tr>\n",
       "    <tr>\n",
       "      <th>2</th>\n",
       "      <td>19961101-13:00</td>\n",
       "      <td>Smoke</td>\n",
       "      <td>11.0</td>\n",
       "      <td>0</td>\n",
       "      <td>0</td>\n",
       "      <td>44.0</td>\n",
       "      <td>-9999.0</td>\n",
       "      <td>0</td>\n",
       "      <td>0</td>\n",
       "      <td>24.0</td>\n",
       "      <td>0</td>\n",
       "      <td>0</td>\n",
       "      <td>NaN</td>\n",
       "      <td>0.0</td>\n",
       "      <td>NaN</td>\n",
       "    </tr>\n",
       "    <tr>\n",
       "      <th>3</th>\n",
       "      <td>19961101-14:00</td>\n",
       "      <td>Smoke</td>\n",
       "      <td>10.0</td>\n",
       "      <td>0</td>\n",
       "      <td>0</td>\n",
       "      <td>41.0</td>\n",
       "      <td>1010.0</td>\n",
       "      <td>0</td>\n",
       "      <td>0</td>\n",
       "      <td>24.0</td>\n",
       "      <td>0</td>\n",
       "      <td>0</td>\n",
       "      <td>2.0</td>\n",
       "      <td>0.0</td>\n",
       "      <td>NaN</td>\n",
       "    </tr>\n",
       "    <tr>\n",
       "      <th>4</th>\n",
       "      <td>19961101-16:00</td>\n",
       "      <td>Smoke</td>\n",
       "      <td>11.0</td>\n",
       "      <td>0</td>\n",
       "      <td>0</td>\n",
       "      <td>47.0</td>\n",
       "      <td>1011.0</td>\n",
       "      <td>0</td>\n",
       "      <td>0</td>\n",
       "      <td>23.0</td>\n",
       "      <td>0</td>\n",
       "      <td>0</td>\n",
       "      <td>1.2</td>\n",
       "      <td>0.0</td>\n",
       "      <td>0.0</td>\n",
       "    </tr>\n",
       "  </tbody>\n",
       "</table>\n",
       "</div>"
      ],
      "text/plain": [
       "     datetime_utc _conds  _dewptm  _fog  _hail  _hum  _pressurem  _rain  \\\n",
       "0  19961101-11:00  Smoke      9.0     0      0  27.0      1010.0      0   \n",
       "1  19961101-12:00  Smoke     10.0     0      0  32.0     -9999.0      0   \n",
       "2  19961101-13:00  Smoke     11.0     0      0  44.0     -9999.0      0   \n",
       "3  19961101-14:00  Smoke     10.0     0      0  41.0      1010.0      0   \n",
       "4  19961101-16:00  Smoke     11.0     0      0  47.0      1011.0      0   \n",
       "\n",
       "   _snow  _tempm  _thunder  _tornado  _vism  _wdird  _wspdm  \n",
       "0      0    30.0         0         0    5.0   280.0     7.4  \n",
       "1      0    28.0         0         0    NaN     0.0     NaN  \n",
       "2      0    24.0         0         0    NaN     0.0     NaN  \n",
       "3      0    24.0         0         0    2.0     0.0     NaN  \n",
       "4      0    23.0         0         0    1.2     0.0     0.0  "
      ]
     },
     "execution_count": 8,
     "metadata": {},
     "output_type": "execute_result"
    }
   ],
   "source": [
    "weather=weather.drop(['_heatindexm','_precipm','_wgustm','_windchillm','_wdire'],axis=1)\n",
    "weather.head()"
   ]
  },
  {
   "cell_type": "code",
   "execution_count": 9,
   "id": "ff0d5c99-5ff2-4576-aef0-4afa0464a835",
   "metadata": {},
   "outputs": [
    {
     "data": {
      "text/plain": [
       "datetime_utc        0\n",
       "_conds             72\n",
       "_dewptm           621\n",
       "_fog                0\n",
       "_hail               0\n",
       "_hum              757\n",
       "_pressurem        232\n",
       "_rain               0\n",
       "_snow               0\n",
       "_tempm            673\n",
       "_thunder            0\n",
       "_tornado            0\n",
       "_vism            4428\n",
       "_wdird          14755\n",
       "_wspdm           2358\n",
       "dtype: int64"
      ]
     },
     "execution_count": 9,
     "metadata": {},
     "output_type": "execute_result"
    }
   ],
   "source": [
    "weather.isnull().sum()"
   ]
  },
  {
   "cell_type": "code",
   "execution_count": 10,
   "id": "8235cea3-aa25-4a0e-b446-f0534a1a60b5",
   "metadata": {},
   "outputs": [
    {
     "data": {
      "text/plain": [
       "Index(['datetime_utc', '_conds', '_dewptm', '_fog', '_hail', '_hum',\n",
       "       '_pressurem', '_rain', '_snow', '_tempm', '_thunder', '_tornado',\n",
       "       '_vism', '_wdird', '_wspdm'],\n",
       "      dtype='object')"
      ]
     },
     "execution_count": 10,
     "metadata": {},
     "output_type": "execute_result"
    }
   ],
   "source": [
    "weather.columns"
   ]
  },
  {
   "cell_type": "markdown",
   "id": "0d5ffef3-9da9-4115-90c0-ba030c641e25",
   "metadata": {},
   "source": [
    "# Let's convert datatype of datetime column"
   ]
  },
  {
   "cell_type": "code",
   "execution_count": 11,
   "id": "c5026650-a4f3-4bb0-8030-c1bb76cbe007",
   "metadata": {},
   "outputs": [],
   "source": [
    "def extract_year(value):\n",
    "    return (value[0:4])\n",
    "def extract_month(value):\n",
    "    return (value[4:6])"
   ]
  },
  {
   "cell_type": "code",
   "execution_count": 12,
   "id": "fa2f60d5-132f-471a-a14d-9127f0180d66",
   "metadata": {},
   "outputs": [],
   "source": [
    "weather[\"year\"] = weather['datetime_utc'].apply(lambda x:extract_year(x))\n",
    "weather[\"month\"] = weather['datetime_utc'].apply(lambda x:extract_month(x))"
   ]
  },
  {
   "cell_type": "code",
   "execution_count": 13,
   "id": "d0f856ce-4e6c-476c-9b13-07aba02ca90c",
   "metadata": {},
   "outputs": [
    {
     "data": {
      "text/html": [
       "<div>\n",
       "<style scoped>\n",
       "    .dataframe tbody tr th:only-of-type {\n",
       "        vertical-align: middle;\n",
       "    }\n",
       "\n",
       "    .dataframe tbody tr th {\n",
       "        vertical-align: top;\n",
       "    }\n",
       "\n",
       "    .dataframe thead th {\n",
       "        text-align: right;\n",
       "    }\n",
       "</style>\n",
       "<table border=\"1\" class=\"dataframe\">\n",
       "  <thead>\n",
       "    <tr style=\"text-align: right;\">\n",
       "      <th></th>\n",
       "      <th>datetime_utc</th>\n",
       "      <th>_conds</th>\n",
       "      <th>_dewptm</th>\n",
       "      <th>_fog</th>\n",
       "      <th>_hail</th>\n",
       "      <th>_hum</th>\n",
       "      <th>_pressurem</th>\n",
       "      <th>_rain</th>\n",
       "      <th>_snow</th>\n",
       "      <th>_tempm</th>\n",
       "      <th>_thunder</th>\n",
       "      <th>_tornado</th>\n",
       "      <th>_vism</th>\n",
       "      <th>_wdird</th>\n",
       "      <th>_wspdm</th>\n",
       "      <th>year</th>\n",
       "      <th>month</th>\n",
       "    </tr>\n",
       "  </thead>\n",
       "  <tbody>\n",
       "    <tr>\n",
       "      <th>0</th>\n",
       "      <td>19961101-11:00</td>\n",
       "      <td>Smoke</td>\n",
       "      <td>9.0</td>\n",
       "      <td>0</td>\n",
       "      <td>0</td>\n",
       "      <td>27.0</td>\n",
       "      <td>1010.0</td>\n",
       "      <td>0</td>\n",
       "      <td>0</td>\n",
       "      <td>30.0</td>\n",
       "      <td>0</td>\n",
       "      <td>0</td>\n",
       "      <td>5.0</td>\n",
       "      <td>280.0</td>\n",
       "      <td>7.4</td>\n",
       "      <td>1996</td>\n",
       "      <td>11</td>\n",
       "    </tr>\n",
       "    <tr>\n",
       "      <th>1</th>\n",
       "      <td>19961101-12:00</td>\n",
       "      <td>Smoke</td>\n",
       "      <td>10.0</td>\n",
       "      <td>0</td>\n",
       "      <td>0</td>\n",
       "      <td>32.0</td>\n",
       "      <td>-9999.0</td>\n",
       "      <td>0</td>\n",
       "      <td>0</td>\n",
       "      <td>28.0</td>\n",
       "      <td>0</td>\n",
       "      <td>0</td>\n",
       "      <td>NaN</td>\n",
       "      <td>0.0</td>\n",
       "      <td>NaN</td>\n",
       "      <td>1996</td>\n",
       "      <td>11</td>\n",
       "    </tr>\n",
       "    <tr>\n",
       "      <th>2</th>\n",
       "      <td>19961101-13:00</td>\n",
       "      <td>Smoke</td>\n",
       "      <td>11.0</td>\n",
       "      <td>0</td>\n",
       "      <td>0</td>\n",
       "      <td>44.0</td>\n",
       "      <td>-9999.0</td>\n",
       "      <td>0</td>\n",
       "      <td>0</td>\n",
       "      <td>24.0</td>\n",
       "      <td>0</td>\n",
       "      <td>0</td>\n",
       "      <td>NaN</td>\n",
       "      <td>0.0</td>\n",
       "      <td>NaN</td>\n",
       "      <td>1996</td>\n",
       "      <td>11</td>\n",
       "    </tr>\n",
       "    <tr>\n",
       "      <th>3</th>\n",
       "      <td>19961101-14:00</td>\n",
       "      <td>Smoke</td>\n",
       "      <td>10.0</td>\n",
       "      <td>0</td>\n",
       "      <td>0</td>\n",
       "      <td>41.0</td>\n",
       "      <td>1010.0</td>\n",
       "      <td>0</td>\n",
       "      <td>0</td>\n",
       "      <td>24.0</td>\n",
       "      <td>0</td>\n",
       "      <td>0</td>\n",
       "      <td>2.0</td>\n",
       "      <td>0.0</td>\n",
       "      <td>NaN</td>\n",
       "      <td>1996</td>\n",
       "      <td>11</td>\n",
       "    </tr>\n",
       "    <tr>\n",
       "      <th>4</th>\n",
       "      <td>19961101-16:00</td>\n",
       "      <td>Smoke</td>\n",
       "      <td>11.0</td>\n",
       "      <td>0</td>\n",
       "      <td>0</td>\n",
       "      <td>47.0</td>\n",
       "      <td>1011.0</td>\n",
       "      <td>0</td>\n",
       "      <td>0</td>\n",
       "      <td>23.0</td>\n",
       "      <td>0</td>\n",
       "      <td>0</td>\n",
       "      <td>1.2</td>\n",
       "      <td>0.0</td>\n",
       "      <td>0.0</td>\n",
       "      <td>1996</td>\n",
       "      <td>11</td>\n",
       "    </tr>\n",
       "  </tbody>\n",
       "</table>\n",
       "</div>"
      ],
      "text/plain": [
       "     datetime_utc _conds  _dewptm  _fog  _hail  _hum  _pressurem  _rain  \\\n",
       "0  19961101-11:00  Smoke      9.0     0      0  27.0      1010.0      0   \n",
       "1  19961101-12:00  Smoke     10.0     0      0  32.0     -9999.0      0   \n",
       "2  19961101-13:00  Smoke     11.0     0      0  44.0     -9999.0      0   \n",
       "3  19961101-14:00  Smoke     10.0     0      0  41.0      1010.0      0   \n",
       "4  19961101-16:00  Smoke     11.0     0      0  47.0      1011.0      0   \n",
       "\n",
       "   _snow  _tempm  _thunder  _tornado  _vism  _wdird  _wspdm  year month  \n",
       "0      0    30.0         0         0    5.0   280.0     7.4  1996    11  \n",
       "1      0    28.0         0         0    NaN     0.0     NaN  1996    11  \n",
       "2      0    24.0         0         0    NaN     0.0     NaN  1996    11  \n",
       "3      0    24.0         0         0    2.0     0.0     NaN  1996    11  \n",
       "4      0    23.0         0         0    1.2     0.0     0.0  1996    11  "
      ]
     },
     "execution_count": 13,
     "metadata": {},
     "output_type": "execute_result"
    }
   ],
   "source": [
    "weather.head()"
   ]
  },
  {
   "cell_type": "code",
   "execution_count": 14,
   "id": "a823842a-00d0-4e65-80cb-2348a0ba4d93",
   "metadata": {},
   "outputs": [
    {
     "data": {
      "text/html": [
       "<div>\n",
       "<style scoped>\n",
       "    .dataframe tbody tr th:only-of-type {\n",
       "        vertical-align: middle;\n",
       "    }\n",
       "\n",
       "    .dataframe tbody tr th {\n",
       "        vertical-align: top;\n",
       "    }\n",
       "\n",
       "    .dataframe thead th {\n",
       "        text-align: right;\n",
       "    }\n",
       "</style>\n",
       "<table border=\"1\" class=\"dataframe\">\n",
       "  <thead>\n",
       "    <tr style=\"text-align: right;\">\n",
       "      <th></th>\n",
       "      <th>_conds</th>\n",
       "      <th>_dewptm</th>\n",
       "      <th>_fog</th>\n",
       "      <th>_hail</th>\n",
       "      <th>_hum</th>\n",
       "      <th>_pressurem</th>\n",
       "      <th>_rain</th>\n",
       "      <th>_snow</th>\n",
       "      <th>_tempm</th>\n",
       "      <th>_thunder</th>\n",
       "      <th>_tornado</th>\n",
       "      <th>_vism</th>\n",
       "      <th>_wdird</th>\n",
       "      <th>_wspdm</th>\n",
       "      <th>year</th>\n",
       "      <th>month</th>\n",
       "    </tr>\n",
       "  </thead>\n",
       "  <tbody>\n",
       "    <tr>\n",
       "      <th>0</th>\n",
       "      <td>Smoke</td>\n",
       "      <td>9.0</td>\n",
       "      <td>0</td>\n",
       "      <td>0</td>\n",
       "      <td>27.0</td>\n",
       "      <td>1010.0</td>\n",
       "      <td>0</td>\n",
       "      <td>0</td>\n",
       "      <td>30.0</td>\n",
       "      <td>0</td>\n",
       "      <td>0</td>\n",
       "      <td>5.0</td>\n",
       "      <td>280.0</td>\n",
       "      <td>7.4</td>\n",
       "      <td>1996</td>\n",
       "      <td>11</td>\n",
       "    </tr>\n",
       "    <tr>\n",
       "      <th>1</th>\n",
       "      <td>Smoke</td>\n",
       "      <td>10.0</td>\n",
       "      <td>0</td>\n",
       "      <td>0</td>\n",
       "      <td>32.0</td>\n",
       "      <td>-9999.0</td>\n",
       "      <td>0</td>\n",
       "      <td>0</td>\n",
       "      <td>28.0</td>\n",
       "      <td>0</td>\n",
       "      <td>0</td>\n",
       "      <td>NaN</td>\n",
       "      <td>0.0</td>\n",
       "      <td>NaN</td>\n",
       "      <td>1996</td>\n",
       "      <td>11</td>\n",
       "    </tr>\n",
       "    <tr>\n",
       "      <th>2</th>\n",
       "      <td>Smoke</td>\n",
       "      <td>11.0</td>\n",
       "      <td>0</td>\n",
       "      <td>0</td>\n",
       "      <td>44.0</td>\n",
       "      <td>-9999.0</td>\n",
       "      <td>0</td>\n",
       "      <td>0</td>\n",
       "      <td>24.0</td>\n",
       "      <td>0</td>\n",
       "      <td>0</td>\n",
       "      <td>NaN</td>\n",
       "      <td>0.0</td>\n",
       "      <td>NaN</td>\n",
       "      <td>1996</td>\n",
       "      <td>11</td>\n",
       "    </tr>\n",
       "    <tr>\n",
       "      <th>3</th>\n",
       "      <td>Smoke</td>\n",
       "      <td>10.0</td>\n",
       "      <td>0</td>\n",
       "      <td>0</td>\n",
       "      <td>41.0</td>\n",
       "      <td>1010.0</td>\n",
       "      <td>0</td>\n",
       "      <td>0</td>\n",
       "      <td>24.0</td>\n",
       "      <td>0</td>\n",
       "      <td>0</td>\n",
       "      <td>2.0</td>\n",
       "      <td>0.0</td>\n",
       "      <td>NaN</td>\n",
       "      <td>1996</td>\n",
       "      <td>11</td>\n",
       "    </tr>\n",
       "    <tr>\n",
       "      <th>4</th>\n",
       "      <td>Smoke</td>\n",
       "      <td>11.0</td>\n",
       "      <td>0</td>\n",
       "      <td>0</td>\n",
       "      <td>47.0</td>\n",
       "      <td>1011.0</td>\n",
       "      <td>0</td>\n",
       "      <td>0</td>\n",
       "      <td>23.0</td>\n",
       "      <td>0</td>\n",
       "      <td>0</td>\n",
       "      <td>1.2</td>\n",
       "      <td>0.0</td>\n",
       "      <td>0.0</td>\n",
       "      <td>1996</td>\n",
       "      <td>11</td>\n",
       "    </tr>\n",
       "  </tbody>\n",
       "</table>\n",
       "</div>"
      ],
      "text/plain": [
       "  _conds  _dewptm  _fog  _hail  _hum  _pressurem  _rain  _snow  _tempm  \\\n",
       "0  Smoke      9.0     0      0  27.0      1010.0      0      0    30.0   \n",
       "1  Smoke     10.0     0      0  32.0     -9999.0      0      0    28.0   \n",
       "2  Smoke     11.0     0      0  44.0     -9999.0      0      0    24.0   \n",
       "3  Smoke     10.0     0      0  41.0      1010.0      0      0    24.0   \n",
       "4  Smoke     11.0     0      0  47.0      1011.0      0      0    23.0   \n",
       "\n",
       "   _thunder  _tornado  _vism  _wdird  _wspdm  year month  \n",
       "0         0         0    5.0   280.0     7.4  1996    11  \n",
       "1         0         0    NaN     0.0     NaN  1996    11  \n",
       "2         0         0    NaN     0.0     NaN  1996    11  \n",
       "3         0         0    2.0     0.0     NaN  1996    11  \n",
       "4         0         0    1.2     0.0     0.0  1996    11  "
      ]
     },
     "execution_count": 14,
     "metadata": {},
     "output_type": "execute_result"
    }
   ],
   "source": [
    "weather=weather.drop(['datetime_utc'],axis=1)\n",
    "weather.head()"
   ]
  },
  {
   "cell_type": "code",
   "execution_count": 15,
   "id": "0e0621c1-5ead-4c5b-891e-920024c54ffb",
   "metadata": {},
   "outputs": [
    {
     "data": {
      "image/png": "[encoded data removed]",
      "text/plain": [
       "<Figure size 1080x720 with 1 Axes>"
      ]
     },
     "metadata": {
      "needs_background": "light"
     },
     "output_type": "display_data"
    }
   ],
   "source": [
    "plt.figure(figsize=(15, 10));\n",
    "weather._conds.value_counts().head(10).plot(kind='bar');\n",
    "plt.title(\"Top 10 most common weather condition\")\n",
    "plt.plot();\n"
   ]
  },
  {
   "cell_type": "code",
   "execution_count": 16,
   "id": "85cfcfcc-bdfb-44eb-bc0b-4ceed7ceadfe",
   "metadata": {},
   "outputs": [
    {
     "data": {
      "image/png": "[encoded data removed]",
      "text/plain": [
       "<Figure size 1080x720 with 1 Axes>"
      ]
     },
     "metadata": {
      "needs_background": "light"
     },
     "output_type": "display_data"
    }
   ],
   "source": [
    "plt.figure(figsize=(15, 10));\n",
    "weather._conds.value_counts(ascending=True).head(10).plot(kind=\"bar\");\n",
    "plt.title(\"Top 10 least whether condition in delhi\");\n",
    "plt.plot();"
   ]
  },
  {
   "cell_type": "code",
   "execution_count": 17,
   "id": "b047f5c5-f439-44c9-9060-bb301b3e0f94",
   "metadata": {},
   "outputs": [
    {
     "data": {
      "image/png": "[encoded data removed]",
      "text/plain": [
       "<Figure size 1080x288 with 1 Axes>"
      ]
     },
     "metadata": {
      "needs_background": "light"
     },
     "output_type": "display_data"
    }
   ],
   "source": [
    "plt.figure(figsize=(15,4));\n",
    "p = sns.lineplot(x=\"year\", y=\"_dewptm\", data=weather)\n"
   ]
  },
  {
   "cell_type": "code",
   "execution_count": 18,
   "id": "a0211551-bf24-45f6-a960-597da56fc931",
   "metadata": {},
   "outputs": [
    {
     "data": {
      "image/png": "[encoded data removed]",
      "text/plain": [
       "<Figure size 1080x288 with 1 Axes>"
      ]
     },
     "metadata": {
      "needs_background": "light"
     },
     "output_type": "display_data"
    }
   ],
   "source": [
    "plt.figure(figsize=(15,4));\n",
    "p = sns.lineplot(x=\"year\", y=\"_fog\", data=weather)"
   ]
  },
  {
   "cell_type": "code",
   "execution_count": 19,
   "id": "90ec7af6-46d3-4630-a659-9e9512b134dd",
   "metadata": {},
   "outputs": [
    {
     "data": {
      "image/png": "[encoded data removed]",
      "text/plain": [
       "<Figure size 1080x288 with 1 Axes>"
      ]
     },
     "metadata": {
      "needs_background": "light"
     },
     "output_type": "display_data"
    }
   ],
   "source": [
    "plt.figure(figsize=(15,4));\n",
    "p = sns.lineplot(x=\"year\", y=\"_hum\", data=weather)\n"
   ]
  },
  {
   "cell_type": "code",
   "execution_count": 20,
   "id": "70fcd352-81a9-40ed-a955-e0a9dba36b9b",
   "metadata": {},
   "outputs": [
    {
     "data": {
      "image/png": "[encoded data removed]",
      "text/plain": [
       "<Figure size 1080x288 with 1 Axes>"
      ]
     },
     "metadata": {
      "needs_background": "light"
     },
     "output_type": "display_data"
    }
   ],
   "source": [
    "plt.figure(figsize=(15,4));\n",
    "p = sns.lineplot(x=\"year\", y=\"_rain\", data=weather)\n"
   ]
  },
  {
   "cell_type": "code",
   "execution_count": 21,
   "id": "6d2850b6-02a0-445d-95c2-4ee1135a6494",
   "metadata": {},
   "outputs": [
    {
     "data": {
      "image/png": "[encoded data removed]",
      "text/plain": [
       "<Figure size 1440x720 with 1 Axes>"
      ]
     },
     "metadata": {
      "needs_background": "light"
     },
     "output_type": "display_data"
    }
   ],
   "source": [
    "plt.figure(figsize=(20, 10))\n",
    "p = sns.countplot(x='_conds', data=weather)\n",
    "_ = plt.setp(p.get_xticklabels(), rotation=90)\n"
   ]
  },
  {
   "cell_type": "markdown",
   "id": "42336a6c-fd4d-4569-8152-5bd1b11e345f",
   "metadata": {},
   "source": [
    "# Look at the above plot, it is really so bad that mostly Delhi has Hazy and Smoky weather conditions, it shows the level of pollution city has.\n"
   ]
  },
  {
   "cell_type": "code",
   "execution_count": 22,
   "id": "098cbf7e-6318-4854-bc09-7240a5085b73",
   "metadata": {},
   "outputs": [
    {
     "data": {
      "text/plain": [
       "Haze                             47602\n",
       "Smoke                            20760\n",
       "Mist                              9375\n",
       "Clear                             3129\n",
       "Widespread Dust                   2856\n",
       "Fog                               2760\n",
       "Scattered Clouds                  2209\n",
       "Partly Cloudy                     2091\n",
       "Shallow Fog                       1860\n",
       "Mostly Cloudy                     1537\n",
       "Light Rain                        1302\n",
       "Partial Fog                       1031\n",
       "Patches of Fog                     901\n",
       "Thunderstorms and Rain             486\n",
       "Heavy Fog                          421\n",
       "Light Drizzle                      414\n",
       "Rain                               394\n",
       "Unknown                            383\n",
       "Blowing Sand                       378\n",
       "Overcast                           326\n",
       "Thunderstorm                       192\n",
       "Light Thunderstorms and Rain       176\n",
       "Drizzle                            112\n",
       "Light Thunderstorm                  64\n",
       "Light Fog                           64\n",
       "Heavy Rain                          28\n",
       "Heavy Thunderstorms and Rain        22\n",
       "Thunderstorms with Hail             11\n",
       "Light Sandstorm                      6\n",
       "Squalls                              6\n",
       "Light Rain Showers                   5\n",
       "Volcanic Ash                         4\n",
       "Light Haze                           4\n",
       "Sandstorm                            2\n",
       "Funnel Cloud                         2\n",
       "Rain Showers                         2\n",
       "Heavy Thunderstorms with Hail        1\n",
       "Light Freezing Rain                  1\n",
       "Light Hail Showers                   1\n",
       "Name: _conds, dtype: int64"
      ]
     },
     "execution_count": 22,
     "metadata": {},
     "output_type": "execute_result"
    }
   ],
   "source": [
    "weather['_conds'].value_counts()"
   ]
  },
  {
   "cell_type": "code",
   "execution_count": 23,
   "id": "fac9b745-7dc8-4b73-af63-847774ab52b8",
   "metadata": {},
   "outputs": [
    {
     "data": {
      "text/plain": [
       "_conds         39\n",
       "_dewptm        51\n",
       "_fog            2\n",
       "_hail           2\n",
       "_hum          100\n",
       "_pressurem    139\n",
       "_rain           2\n",
       "_snow           2\n",
       "_tempm         50\n",
       "_thunder        2\n",
       "_tornado        2\n",
       "_vism          48\n",
       "_wdird         63\n",
       "_wspdm         90\n",
       "year           22\n",
       "month          12\n",
       "dtype: int64"
      ]
     },
     "execution_count": 23,
     "metadata": {},
     "output_type": "execute_result"
    }
   ],
   "source": [
    "weather.nunique()"
   ]
  },
  {
   "cell_type": "code",
   "execution_count": 25,
   "id": "cad9127e-180f-476b-bc20-ea76a127cfe3",
   "metadata": {},
   "outputs": [],
   "source": [
    "weather.ffill(inplace=True)"
   ]
  },
  {
   "cell_type": "code",
   "execution_count": 26,
   "id": "bb4392c7-c85b-4d35-89fb-fe985caae527",
   "metadata": {},
   "outputs": [
    {
     "data": {
      "text/plain": [
       "_conds        0\n",
       "_dewptm       0\n",
       "_fog          0\n",
       "_hail         0\n",
       "_hum          0\n",
       "_pressurem    0\n",
       "_rain         0\n",
       "_snow         0\n",
       "_tempm        0\n",
       "_thunder      0\n",
       "_tornado      0\n",
       "_vism         0\n",
       "_wdird        0\n",
       "_wspdm        0\n",
       "year          0\n",
       "month         0\n",
       "dtype: int64"
      ]
     },
     "execution_count": 26,
     "metadata": {},
     "output_type": "execute_result"
    }
   ],
   "source": [
    "weather.isnull().sum()"
   ]
  },
  {
   "cell_type": "code",
   "execution_count": 27,
   "id": "72d87f52-3048-427a-8367-e8a5c84aa3e7",
   "metadata": {},
   "outputs": [
    {
     "data": {
      "text/plain": [
       "(100990, 14)"
      ]
     },
     "execution_count": 27,
     "metadata": {},
     "output_type": "execute_result"
    }
   ],
   "source": [
    "X = weather.iloc[:, 1:-1].values\n",
    "X.shape"
   ]
  },
  {
   "cell_type": "code",
   "execution_count": 28,
   "id": "166896bc-ec45-4c6d-a672-ec980a915a81",
   "metadata": {},
   "outputs": [
    {
     "data": {
      "text/plain": [
       "(100990,)"
      ]
     },
     "execution_count": 28,
     "metadata": {},
     "output_type": "execute_result"
    }
   ],
   "source": [
    "y = weather.iloc[:, -1].values\n",
    "y.shape"
   ]
  },
  {
   "cell_type": "markdown",
   "id": "25f98532-072a-4f74-b109-ae5ea8b9ab8d",
   "metadata": {},
   "source": [
    "# Train & Test Split"
   ]
  },
  {
   "cell_type": "code",
   "execution_count": 29,
   "id": "6dd498b2-94ed-40c2-bb19-6f1a75771ec6",
   "metadata": {},
   "outputs": [],
   "source": [
    "from sklearn.model_selection import train_test_split\n"
   ]
  },
  {
   "cell_type": "code",
   "execution_count": 30,
   "id": "76fae673-5944-4b28-98f9-d7547d4cb3f8",
   "metadata": {},
   "outputs": [],
   "source": [
    "X_train, X_test, y_train, y_test = train_test_split(X, y, test_size=.25, random_state=0)\n"
   ]
  },
  {
   "cell_type": "code",
   "execution_count": 31,
   "id": "0d28fbd2-6c78-4484-a6c8-f84c8c5a0d8d",
   "metadata": {},
   "outputs": [
    {
     "name": "stdout",
     "output_type": "stream",
     "text": [
      "Shape of X_train (75742, 14)\n",
      "Shape of X_test (25248, 14)\n",
      "Shape of y_train (75742,)\n",
      "Shape of y_test (25248,)\n"
     ]
    }
   ],
   "source": [
    "print(\"Shape of X_train\", X_train.shape)\n",
    "print(\"Shape of X_test\", X_test.shape)\n",
    "print(\"Shape of y_train\", y_train.shape)\n",
    "print(\"Shape of y_test\", y_test.shape)"
   ]
  },
  {
   "cell_type": "markdown",
   "id": "70b610f4-5331-4495-8ceb-02109fc164d0",
   "metadata": {},
   "source": [
    "# Create Model"
   ]
  },
  {
   "cell_type": "code",
   "execution_count": 32,
   "id": "88661f0b-e93e-479a-a3d0-04040dc0c2e9",
   "metadata": {},
   "outputs": [],
   "source": [
    "from sklearn.linear_model import LinearRegression\n",
    "from sklearn.linear_model import LogisticRegression,LogisticRegressionCV"
   ]
  },
  {
   "cell_type": "code",
   "execution_count": 33,
   "id": "310a8c22-c173-4bee-821b-28ab1d00e62d",
   "metadata": {},
   "outputs": [],
   "source": [
    "model1= LinearRegression().fit(X_train,y_train)"
   ]
  },
  {
   "cell_type": "code",
   "execution_count": 34,
   "id": "0ad4258a-f3f2-4181-8cb7-265d094ac44d",
   "metadata": {},
   "outputs": [
    {
     "name": "stdout",
     "output_type": "stream",
     "text": [
      "6.9%\n",
      "6.3%\n"
     ]
    }
   ],
   "source": [
    "print('%.1f%%'%(model1.score(X_train,y_train)*100))\n",
    "print('%.1f%%'%(model1.score(X_test,y_test)*100))\n"
   ]
  },
  {
   "cell_type": "code",
   "execution_count": 35,
   "id": "47c035c8-989a-4a9c-9b53-b36430e4c4ab",
   "metadata": {},
   "outputs": [
    {
     "name": "stderr",
     "output_type": "stream",
     "text": [
      "C:\\Users\\UTKARSH SINGH RATHOR\\OneDrive\\Documents\\lib\\site-packages\\sklearn\\linear_model\\_logistic.py:763: ConvergenceWarning: lbfgs failed to converge (status=1):\n",
      "STOP: TOTAL NO. of ITERATIONS REACHED LIMIT.\n",
      "\n",
      "Increase the number of iterations (max_iter) or scale the data as shown in:\n",
      "    https://scikit-learn.org/stable/modules/preprocessing.html\n",
      "Please also refer to the documentation for alternative solver options:\n",
      "    https://scikit-learn.org/stable/modules/linear_model.html#logistic-regression\n",
      "  n_iter_i = _check_optimize_result(\n"
     ]
    }
   ],
   "source": [
    "model2=  LogisticRegression().fit(X_train,y_train)\n"
   ]
  },
  {
   "cell_type": "code",
   "execution_count": 36,
   "id": "49b6fbe7-d8df-41e3-bbc9-0019fa108ace",
   "metadata": {},
   "outputs": [
    {
     "name": "stdout",
     "output_type": "stream",
     "text": [
      "18.1%\n",
      "17.5%\n"
     ]
    }
   ],
   "source": [
    "print('%.1f%%'%(model2.score(X_train,y_train)*100))\n",
    "print('%.1f%%'%(model2.score(X_test,y_test)*100))"
   ]
  },
  {
   "cell_type": "code",
   "execution_count": 37,
   "id": "e83a7c7f-f3a0-498e-91a4-509e00777bf4",
   "metadata": {},
   "outputs": [],
   "source": [
    "from sklearn.tree import DecisionTreeClassifier"
   ]
  },
  {
   "cell_type": "code",
   "execution_count": 38,
   "id": "210ffef4-7af9-4cb5-9fb3-d4eb43183609",
   "metadata": {},
   "outputs": [],
   "source": [
    "clf = DecisionTreeClassifier(criterion=\"entropy\", random_state=0)"
   ]
  },
  {
   "cell_type": "code",
   "execution_count": 39,
   "id": "03b5cbae-0a9c-41a9-a6b7-9b19d75148a3",
   "metadata": {},
   "outputs": [
    {
     "data": {
      "text/plain": [
       "DecisionTreeClassifier(criterion='entropy', random_state=0)"
      ]
     },
     "execution_count": 39,
     "metadata": {},
     "output_type": "execute_result"
    }
   ],
   "source": [
    "clf.fit(X_train, y_train)"
   ]
  },
  {
   "cell_type": "code",
   "execution_count": 40,
   "id": "7d7c902b-a00b-4e64-b657-7659959c3616",
   "metadata": {},
   "outputs": [
    {
     "name": "stdout",
     "output_type": "stream",
     "text": [
      "99.8%\n",
      "60.3%\n"
     ]
    }
   ],
   "source": [
    "print('%.1f%%'%(clf.score(X_train,y_train)*100))\n",
    "print('%.1f%%'%(clf.score(X_test,y_test)*100))\n"
   ]
  },
  {
   "cell_type": "code",
   "execution_count": 41,
   "id": "889776a5-da8f-486b-ad39-dc04ed0de8e6",
   "metadata": {},
   "outputs": [
    {
     "data": {
      "text/plain": [
       "array(['05', '08', '12', ..., '07', '09', '12'], dtype=object)"
      ]
     },
     "execution_count": 41,
     "metadata": {},
     "output_type": "execute_result"
    }
   ],
   "source": [
    "y_pred = clf.predict(X_test)\n",
    "y_pred"
   ]
  },
  {
   "cell_type": "code",
   "execution_count": 42,
   "id": "799df047-246a-4e1b-8397-9e6045464ec4",
   "metadata": {},
   "outputs": [
    {
     "name": "stdout",
     "output_type": "stream",
     "text": [
      "DecisionTrees's Accuracy:  60.30180608365019\n"
     ]
    }
   ],
   "source": [
    "from sklearn import metrics\n",
    "print(\"DecisionTrees's Accuracy: \", metrics.accuracy_score(y_test, y_pred)*100)\n"
   ]
  },
  {
   "cell_type": "code",
   "execution_count": null,
   "id": "4510aec9-0482-4cca-9f13-e3b346ebe92e",
   "metadata": {},
   "outputs": [],
   "source": []
  }
 ],
 "metadata": {
  "kernelspec": {
   "display_name": "Python 3",
   "language": "python",
   "name": "python3"
  },
  "language_info": {
   "codemirror_mode": {
    "name": "ipython",
    "version": 3
   },
   "file_extension": ".py",
   "mimetype": "text/x-python",
   "name": "python",
   "nbconvert_exporter": "python",
   "pygments_lexer": "ipython3",
   "version": "3.8.8"
  }
 },
 "nbformat": 4,
 "nbformat_minor": 5
}
