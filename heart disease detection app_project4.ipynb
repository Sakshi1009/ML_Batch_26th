<html xmlns:v="urn:schemas-microsoft-com:vml"
xmlns:o="urn:schemas-microsoft-com:office:office"
xmlns:w="urn:schemas-microsoft-com:office:word"
xmlns:m="http://schemas.microsoft.com/office/2004/12/omml"
xmlns="http://www.w3.org/TR/REC-html40">

<head>
<meta http-equiv=Content-Type content="text/html; charset=us-ascii">
<meta name=ProgId content=Word.Document>
<meta name=Generator content="Microsoft Word 12">
<meta name=Originator content="Microsoft Word 12">
<link rel=File-List
href="heart%20disease%20detection%20app_project4_files/filelist.xml">
<!--[if gte mso 9]><xml>
 <o:DocumentProperties>
  <o:Author>UTKARSH SINGH RATHOR</o:Author>
  <o:LastAuthor>UTKARSH SINGH RATHOR</o:LastAuthor>
  <o:Revision>2</o:Revision>
  <o:TotalTime>0</o:TotalTime>
  <o:Created>2021-07-24T17:36:00Z</o:Created>
  <o:LastSaved>2021-07-24T17:36:00Z</o:LastSaved>
  <o:Pages>1</o:Pages>
  <o:Words>78</o:Words>
  <o:Characters>449</o:Characters>
  <o:Lines>3</o:Lines>
  <o:Paragraphs>1</o:Paragraphs>
  <o:CharactersWithSpaces>526</o:CharactersWithSpaces>
  <o:Version>12.00</o:Version>
 </o:DocumentProperties>
</xml><![endif]-->
<link rel=themeData
href="heart%20disease%20detection%20app_project4_files/themedata.thmx">
<link rel=colorSchemeMapping
href="heart%20disease%20detection%20app_project4_files/colorschememapping.xml">
<!--[if gte mso 9]><xml>
 <w:WordDocument>
  <w:SpellingState>Clean</w:SpellingState>
  <w:GrammarState>Clean</w:GrammarState>
  <w:TrackMoves>false</w:TrackMoves>
  <w:TrackFormatting/>
  <w:ValidateAgainstSchemas/>
  <w:SaveIfXMLInvalid>false</w:SaveIfXMLInvalid>
  <w:IgnoreMixedContent>false</w:IgnoreMixedContent>
  <w:AlwaysShowPlaceholderText>false</w:AlwaysShowPlaceholderText>
  <w:DoNotPromoteQF/>
  <w:LidThemeOther>EN-US</w:LidThemeOther>
  <w:LidThemeAsian>X-NONE</w:LidThemeAsian>
  <w:LidThemeComplexScript>X-NONE</w:LidThemeComplexScript>
  <w:Compatibility>
   <w:BreakWrappedTables/>
   <w:SnapToGridInCell/>
   <w:WrapTextWithPunct/>
   <w:UseAsianBreakRules/>
   <w:DontGrowAutofit/>
   <w:SplitPgBreakAndParaMark/>
   <w:DontVertAlignCellWithSp/>
   <w:DontBreakConstrainedForcedTables/>
   <w:DontVertAlignInTxbx/>
   <w:Word11KerningPairs/>
   <w:CachedColBalance/>
  </w:Compatibility>
  <w:BrowserLevel>MicrosoftInternetExplorer4</w:BrowserLevel>
  <m:mathPr>
   <m:mathFont m:val="Cambria Math"/>
   <m:brkBin m:val="before"/>
   <m:brkBinSub m:val="&#45;-"/>
   <m:smallFrac m:val="off"/>
   <m:dispDef/>
   <m:lMargin m:val="0"/>
   <m:rMargin m:val="0"/>
   <m:defJc m:val="centerGroup"/>
   <m:wrapIndent m:val="1440"/>
   <m:intLim m:val="subSup"/>
   <m:naryLim m:val="undOvr"/>
  </m:mathPr></w:WordDocument>
</xml><![endif]--><!--[if gte mso 9]><xml>
 <w:LatentStyles DefLockedState="false" DefUnhideWhenUsed="true"
  DefSemiHidden="true" DefQFormat="false" DefPriority="99"
  LatentStyleCount="267">
  <w:LsdException Locked="false" Priority="0" SemiHidden="false"
   UnhideWhenUsed="false" QFormat="true" Name="Normal"/>
  <w:LsdException Locked="false" Priority="9" SemiHidden="false"
   UnhideWhenUsed="false" QFormat="true" Name="heading 1"/>
  <w:LsdException Locked="false" Priority="9" QFormat="true" Name="heading 2"/>
  <w:LsdException Locked="false" Priority="9" QFormat="true" Name="heading 3"/>
  <w:LsdException Locked="false" Priority="9" QFormat="true" Name="heading 4"/>
  <w:LsdException Locked="false" Priority="9" QFormat="true" Name="heading 5"/>
  <w:LsdException Locked="false" Priority="9" QFormat="true" Name="heading 6"/>
  <w:LsdException Locked="false" Priority="9" QFormat="true" Name="heading 7"/>
  <w:LsdException Locked="false" Priority="9" QFormat="true" Name="heading 8"/>
  <w:LsdException Locked="false" Priority="9" QFormat="true" Name="heading 9"/>
  <w:LsdException Locked="false" Priority="39" Name="toc 1"/>
  <w:LsdException Locked="false" Priority="39" Name="toc 2"/>
  <w:LsdException Locked="false" Priority="39" Name="toc 3"/>
  <w:LsdException Locked="false" Priority="39" Name="toc 4"/>
  <w:LsdException Locked="false" Priority="39" Name="toc 5"/>
  <w:LsdException Locked="false" Priority="39" Name="toc 6"/>
  <w:LsdException Locked="false" Priority="39" Name="toc 7"/>
  <w:LsdException Locked="false" Priority="39" Name="toc 8"/>
  <w:LsdException Locked="false" Priority="39" Name="toc 9"/>
  <w:LsdException Locked="false" Priority="35" QFormat="true" Name="caption"/>
  <w:LsdException Locked="false" Priority="10" SemiHidden="false"
   UnhideWhenUsed="false" QFormat="true" Name="Title"/>
  <w:LsdException Locked="false" Priority="1" Name="Default Paragraph Font"/>
  <w:LsdException Locked="false" Priority="11" SemiHidden="false"
   UnhideWhenUsed="false" QFormat="true" Name="Subtitle"/>
  <w:LsdException Locked="false" Priority="22" SemiHidden="false"
   UnhideWhenUsed="false" QFormat="true" Name="Strong"/>
  <w:LsdException Locked="false" Priority="20" SemiHidden="false"
   UnhideWhenUsed="false" QFormat="true" Name="Emphasis"/>
  <w:LsdException Locked="false" Priority="59" SemiHidden="false"
   UnhideWhenUsed="false" Name="Table Grid"/>
  <w:LsdException Locked="false" UnhideWhenUsed="false" Name="Placeholder Text"/>
  <w:LsdException Locked="false" Priority="1" SemiHidden="false"
   UnhideWhenUsed="false" QFormat="true" Name="No Spacing"/>
  <w:LsdException Locked="false" Priority="60" SemiHidden="false"
   UnhideWhenUsed="false" Name="Light Shading"/>
  <w:LsdException Locked="false" Priority="61" SemiHidden="false"
   UnhideWhenUsed="false" Name="Light List"/>
  <w:LsdException Locked="false" Priority="62" SemiHidden="false"
   UnhideWhenUsed="false" Name="Light Grid"/>
  <w:LsdException Locked="false" Priority="63" SemiHidden="false"
   UnhideWhenUsed="false" Name="Medium Shading 1"/>
  <w:LsdException Locked="false" Priority="64" SemiHidden="false"
   UnhideWhenUsed="false" Name="Medium Shading 2"/>
  <w:LsdException Locked="false" Priority="65" SemiHidden="false"
   UnhideWhenUsed="false" Name="Medium List 1"/>
  <w:LsdException Locked="false" Priority="66" SemiHidden="false"
   UnhideWhenUsed="false" Name="Medium List 2"/>
  <w:LsdException Locked="false" Priority="67" SemiHidden="false"
   UnhideWhenUsed="false" Name="Medium Grid 1"/>
  <w:LsdException Locked="false" Priority="68" SemiHidden="false"
   UnhideWhenUsed="false" Name="Medium Grid 2"/>
  <w:LsdException Locked="false" Priority="69" SemiHidden="false"
   UnhideWhenUsed="false" Name="Medium Grid 3"/>
  <w:LsdException Locked="false" Priority="70" SemiHidden="false"
   UnhideWhenUsed="false" Name="Dark List"/>
  <w:LsdException Locked="false" Priority="71" SemiHidden="false"
   UnhideWhenUsed="false" Name="Colorful Shading"/>
  <w:LsdException Locked="false" Priority="72" SemiHidden="false"
   UnhideWhenUsed="false" Name="Colorful List"/>
  <w:LsdException Locked="false" Priority="73" SemiHidden="false"
   UnhideWhenUsed="false" Name="Colorful Grid"/>
  <w:LsdException Locked="false" Priority="60" SemiHidden="false"
   UnhideWhenUsed="false" Name="Light Shading Accent 1"/>
  <w:LsdException Locked="false" Priority="61" SemiHidden="false"
   UnhideWhenUsed="false" Name="Light List Accent 1"/>
  <w:LsdException Locked="false" Priority="62" SemiHidden="false"
   UnhideWhenUsed="false" Name="Light Grid Accent 1"/>
  <w:LsdException Locked="false" Priority="63" SemiHidden="false"
   UnhideWhenUsed="false" Name="Medium Shading 1 Accent 1"/>
  <w:LsdException Locked="false" Priority="64" SemiHidden="false"
   UnhideWhenUsed="false" Name="Medium Shading 2 Accent 1"/>
  <w:LsdException Locked="false" Priority="65" SemiHidden="false"
   UnhideWhenUsed="false" Name="Medium List 1 Accent 1"/>
  <w:LsdException Locked="false" UnhideWhenUsed="false" Name="Revision"/>
  <w:LsdException Locked="false" Priority="34" SemiHidden="false"
   UnhideWhenUsed="false" QFormat="true" Name="List Paragraph"/>
  <w:LsdException Locked="false" Priority="29" SemiHidden="false"
   UnhideWhenUsed="false" QFormat="true" Name="Quote"/>
  <w:LsdException Locked="false" Priority="30" SemiHidden="false"
   UnhideWhenUsed="false" QFormat="true" Name="Intense Quote"/>
  <w:LsdException Locked="false" Priority="66" SemiHidden="false"
   UnhideWhenUsed="false" Name="Medium List 2 Accent 1"/>
  <w:LsdException Locked="false" Priority="67" SemiHidden="false"
   UnhideWhenUsed="false" Name="Medium Grid 1 Accent 1"/>
  <w:LsdException Locked="false" Priority="68" SemiHidden="false"
   UnhideWhenUsed="false" Name="Medium Grid 2 Accent 1"/>
  <w:LsdException Locked="false" Priority="69" SemiHidden="false"
   UnhideWhenUsed="false" Name="Medium Grid 3 Accent 1"/>
  <w:LsdException Locked="false" Priority="70" SemiHidden="false"
   UnhideWhenUsed="false" Name="Dark List Accent 1"/>
  <w:LsdException Locked="false" Priority="71" SemiHidden="false"
   UnhideWhenUsed="false" Name="Colorful Shading Accent 1"/>
  <w:LsdException Locked="false" Priority="72" SemiHidden="false"
   UnhideWhenUsed="false" Name="Colorful List Accent 1"/>
  <w:LsdException Locked="false" Priority="73" SemiHidden="false"
   UnhideWhenUsed="false" Name="Colorful Grid Accent 1"/>
  <w:LsdException Locked="false" Priority="60" SemiHidden="false"
   UnhideWhenUsed="false" Name="Light Shading Accent 2"/>
  <w:LsdException Locked="false" Priority="61" SemiHidden="false"
   UnhideWhenUsed="false" Name="Light List Accent 2"/>
  <w:LsdException Locked="false" Priority="62" SemiHidden="false"
   UnhideWhenUsed="false" Name="Light Grid Accent 2"/>
  <w:LsdException Locked="false" Priority="63" SemiHidden="false"
   UnhideWhenUsed="false" Name="Medium Shading 1 Accent 2"/>
  <w:LsdException Locked="false" Priority="64" SemiHidden="false"
   UnhideWhenUsed="false" Name="Medium Shading 2 Accent 2"/>
  <w:LsdException Locked="false" Priority="65" SemiHidden="false"
   UnhideWhenUsed="false" Name="Medium List 1 Accent 2"/>
  <w:LsdException Locked="false" Priority="66" SemiHidden="false"
   UnhideWhenUsed="false" Name="Medium List 2 Accent 2"/>
  <w:LsdException Locked="false" Priority="67" SemiHidden="false"
   UnhideWhenUsed="false" Name="Medium Grid 1 Accent 2"/>
  <w:LsdException Locked="false" Priority="68" SemiHidden="false"
   UnhideWhenUsed="false" Name="Medium Grid 2 Accent 2"/>
  <w:LsdException Locked="false" Priority="69" SemiHidden="false"
   UnhideWhenUsed="false" Name="Medium Grid 3 Accent 2"/>
  <w:LsdException Locked="false" Priority="70" SemiHidden="false"
   UnhideWhenUsed="false" Name="Dark List Accent 2"/>
  <w:LsdException Locked="false" Priority="71" SemiHidden="false"
   UnhideWhenUsed="false" Name="Colorful Shading Accent 2"/>
  <w:LsdException Locked="false" Priority="72" SemiHidden="false"
   UnhideWhenUsed="false" Name="Colorful List Accent 2"/>
  <w:LsdException Locked="false" Priority="73" SemiHidden="false"
   UnhideWhenUsed="false" Name="Colorful Grid Accent 2"/>
  <w:LsdException Locked="false" Priority="60" SemiHidden="false"
   UnhideWhenUsed="false" Name="Light Shading Accent 3"/>
  <w:LsdException Locked="false" Priority="61" SemiHidden="false"
   UnhideWhenUsed="false" Name="Light List Accent 3"/>
  <w:LsdException Locked="false" Priority="62" SemiHidden="false"
   UnhideWhenUsed="false" Name="Light Grid Accent 3"/>
  <w:LsdException Locked="false" Priority="63" SemiHidden="false"
   UnhideWhenUsed="false" Name="Medium Shading 1 Accent 3"/>
  <w:LsdException Locked="false" Priority="64" SemiHidden="false"
   UnhideWhenUsed="false" Name="Medium Shading 2 Accent 3"/>
  <w:LsdException Locked="false" Priority="65" SemiHidden="false"
   UnhideWhenUsed="false" Name="Medium List 1 Accent 3"/>
  <w:LsdException Locked="false" Priority="66" SemiHidden="false"
   UnhideWhenUsed="false" Name="Medium List 2 Accent 3"/>
  <w:LsdException Locked="false" Priority="67" SemiHidden="false"
   UnhideWhenUsed="false" Name="Medium Grid 1 Accent 3"/>
  <w:LsdException Locked="false" Priority="68" SemiHidden="false"
   UnhideWhenUsed="false" Name="Medium Grid 2 Accent 3"/>
  <w:LsdException Locked="false" Priority="69" SemiHidden="false"
   UnhideWhenUsed="false" Name="Medium Grid 3 Accent 3"/>
  <w:LsdException Locked="false" Priority="70" SemiHidden="false"
   UnhideWhenUsed="false" Name="Dark List Accent 3"/>
  <w:LsdException Locked="false" Priority="71" SemiHidden="false"
   UnhideWhenUsed="false" Name="Colorful Shading Accent 3"/>
  <w:LsdException Locked="false" Priority="72" SemiHidden="false"
   UnhideWhenUsed="false" Name="Colorful List Accent 3"/>
  <w:LsdException Locked="false" Priority="73" SemiHidden="false"
   UnhideWhenUsed="false" Name="Colorful Grid Accent 3"/>
  <w:LsdException Locked="false" Priority="60" SemiHidden="false"
   UnhideWhenUsed="false" Name="Light Shading Accent 4"/>
  <w:LsdException Locked="false" Priority="61" SemiHidden="false"
   UnhideWhenUsed="false" Name="Light List Accent 4"/>
  <w:LsdException Locked="false" Priority="62" SemiHidden="false"
   UnhideWhenUsed="false" Name="Light Grid Accent 4"/>
  <w:LsdException Locked="false" Priority="63" SemiHidden="false"
   UnhideWhenUsed="false" Name="Medium Shading 1 Accent 4"/>
  <w:LsdException Locked="false" Priority="64" SemiHidden="false"
   UnhideWhenUsed="false" Name="Medium Shading 2 Accent 4"/>
  <w:LsdException Locked="false" Priority="65" SemiHidden="false"
   UnhideWhenUsed="false" Name="Medium List 1 Accent 4"/>
  <w:LsdException Locked="false" Priority="66" SemiHidden="false"
   UnhideWhenUsed="false" Name="Medium List 2 Accent 4"/>
  <w:LsdException Locked="false" Priority="67" SemiHidden="false"
   UnhideWhenUsed="false" Name="Medium Grid 1 Accent 4"/>
  <w:LsdException Locked="false" Priority="68" SemiHidden="false"
   UnhideWhenUsed="false" Name="Medium Grid 2 Accent 4"/>
  <w:LsdException Locked="false" Priority="69" SemiHidden="false"
   UnhideWhenUsed="false" Name="Medium Grid 3 Accent 4"/>
  <w:LsdException Locked="false" Priority="70" SemiHidden="false"
   UnhideWhenUsed="false" Name="Dark List Accent 4"/>
  <w:LsdException Locked="false" Priority="71" SemiHidden="false"
   UnhideWhenUsed="false" Name="Colorful Shading Accent 4"/>
  <w:LsdException Locked="false" Priority="72" SemiHidden="false"
   UnhideWhenUsed="false" Name="Colorful List Accent 4"/>
  <w:LsdException Locked="false" Priority="73" SemiHidden="false"
   UnhideWhenUsed="false" Name="Colorful Grid Accent 4"/>
  <w:LsdException Locked="false" Priority="60" SemiHidden="false"
   UnhideWhenUsed="false" Name="Light Shading Accent 5"/>
  <w:LsdException Locked="false" Priority="61" SemiHidden="false"
   UnhideWhenUsed="false" Name="Light List Accent 5"/>
  <w:LsdException Locked="false" Priority="62" SemiHidden="false"
   UnhideWhenUsed="false" Name="Light Grid Accent 5"/>
  <w:LsdException Locked="false" Priority="63" SemiHidden="false"
   UnhideWhenUsed="false" Name="Medium Shading 1 Accent 5"/>
  <w:LsdException Locked="false" Priority="64" SemiHidden="false"
   UnhideWhenUsed="false" Name="Medium Shading 2 Accent 5"/>
  <w:LsdException Locked="false" Priority="65" SemiHidden="false"
   UnhideWhenUsed="false" Name="Medium List 1 Accent 5"/>
  <w:LsdException Locked="false" Priority="66" SemiHidden="false"
   UnhideWhenUsed="false" Name="Medium List 2 Accent 5"/>
  <w:LsdException Locked="false" Priority="67" SemiHidden="false"
   UnhideWhenUsed="false" Name="Medium Grid 1 Accent 5"/>
  <w:LsdException Locked="false" Priority="68" SemiHidden="false"
   UnhideWhenUsed="false" Name="Medium Grid 2 Accent 5"/>
  <w:LsdException Locked="false" Priority="69" SemiHidden="false"
   UnhideWhenUsed="false" Name="Medium Grid 3 Accent 5"/>
  <w:LsdException Locked="false" Priority="70" SemiHidden="false"
   UnhideWhenUsed="false" Name="Dark List Accent 5"/>
  <w:LsdException Locked="false" Priority="71" SemiHidden="false"
   UnhideWhenUsed="false" Name="Colorful Shading Accent 5"/>
  <w:LsdException Locked="false" Priority="72" SemiHidden="false"
   UnhideWhenUsed="false" Name="Colorful List Accent 5"/>
  <w:LsdException Locked="false" Priority="73" SemiHidden="false"
   UnhideWhenUsed="false" Name="Colorful Grid Accent 5"/>
  <w:LsdException Locked="false" Priority="60" SemiHidden="false"
   UnhideWhenUsed="false" Name="Light Shading Accent 6"/>
  <w:LsdException Locked="false" Priority="61" SemiHidden="false"
   UnhideWhenUsed="false" Name="Light List Accent 6"/>
  <w:LsdException Locked="false" Priority="62" SemiHidden="false"
   UnhideWhenUsed="false" Name="Light Grid Accent 6"/>
  <w:LsdException Locked="false" Priority="63" SemiHidden="false"
   UnhideWhenUsed="false" Name="Medium Shading 1 Accent 6"/>
  <w:LsdException Locked="false" Priority="64" SemiHidden="false"
   UnhideWhenUsed="false" Name="Medium Shading 2 Accent 6"/>
  <w:LsdException Locked="false" Priority="65" SemiHidden="false"
   UnhideWhenUsed="false" Name="Medium List 1 Accent 6"/>
  <w:LsdException Locked="false" Priority="66" SemiHidden="false"
   UnhideWhenUsed="false" Name="Medium List 2 Accent 6"/>
  <w:LsdException Locked="false" Priority="67" SemiHidden="false"
   UnhideWhenUsed="false" Name="Medium Grid 1 Accent 6"/>
  <w:LsdException Locked="false" Priority="68" SemiHidden="false"
   UnhideWhenUsed="false" Name="Medium Grid 2 Accent 6"/>
  <w:LsdException Locked="false" Priority="69" SemiHidden="false"
   UnhideWhenUsed="false" Name="Medium Grid 3 Accent 6"/>
  <w:LsdException Locked="false" Priority="70" SemiHidden="false"
   UnhideWhenUsed="false" Name="Dark List Accent 6"/>
  <w:LsdException Locked="false" Priority="71" SemiHidden="false"
   UnhideWhenUsed="false" Name="Colorful Shading Accent 6"/>
  <w:LsdException Locked="false" Priority="72" SemiHidden="false"
   UnhideWhenUsed="false" Name="Colorful List Accent 6"/>
  <w:LsdException Locked="false" Priority="73" SemiHidden="false"
   UnhideWhenUsed="false" Name="Colorful Grid Accent 6"/>
  <w:LsdException Locked="false" Priority="19" SemiHidden="false"
   UnhideWhenUsed="false" QFormat="true" Name="Subtle Emphasis"/>
  <w:LsdException Locked="false" Priority="21" SemiHidden="false"
   UnhideWhenUsed="false" QFormat="true" Name="Intense Emphasis"/>
  <w:LsdException Locked="false" Priority="31" SemiHidden="false"
   UnhideWhenUsed="false" QFormat="true" Name="Subtle Reference"/>
  <w:LsdException Locked="false" Priority="32" SemiHidden="false"
   UnhideWhenUsed="false" QFormat="true" Name="Intense Reference"/>
  <w:LsdException Locked="false" Priority="33" SemiHidden="false"
   UnhideWhenUsed="false" QFormat="true" Name="Book Title"/>
  <w:LsdException Locked="false" Priority="37" Name="Bibliography"/>
  <w:LsdException Locked="false" Priority="39" QFormat="true" Name="TOC Heading"/>
 </w:LatentStyles>
</xml><![endif]-->
<style scoped>
<!--
\n",
       "    .dataframe tbody tr th:only-of-type {\n",
       "        vertical-align: middle;\n",
       "    }\n",
       "\n",
       "    .dataframe tbody tr th {\n",
       "        vertical-align: top;\n",
       "    }\n",
       "\n",
       "    .dataframe thead th {\n",
       "        text-align: right;\n",
       "    }\n",
       "</style>\n",
       "<table border=\"1\" class=\"dataframe\">\n",
       "  <thead>\n",
       "    <tr style=\"text-align: right;\">\n",
       "      <th></th>\n",
       "      <th>age</th>\n",
       "      <th>sex</th>\n",
       "      <th>cp</th>\n",
       "      <th>trestbps</th>\n",
       "      <th>chol</th>\n",
       "      <th>fbs</th>\n",
       "      <th>restecg</th>\n",
       "      <th>thalach</th>\n",
       "      <th>exang</th>\n",
       "      <th>oldpeak</th>\n",
       "      <th>slope</th>\n",
       "      <th>ca</th>\n",
       "      <th>thal</th>\n",
       "      <th>target</th>\n",
       "    </tr>\n",
       "  </thead>\n",
       "  <tbody>\n",
       "    <tr>\n",
       "      <th>0</th>\n",
       "      <td>63</td>\n",
       "      <td>1</td>\n",
       "      <td>3</td>\n",
       "      <td>145</td>\n",
       "      <td>233</td>\n",
       "      <td>1</td>\n",
       "      <td>0</td>\n",
       "      <td>150</td>\n",
       "      <td>0</td>\n",
       "      <td>2.3</td>\n",
       "      <td>0</td>\n",
       "      <td>0</td>\n",
       "      <td>1</td>\n",
       "      <td>1</td>\n",
       "    </tr>\n",
       "    <tr>\n",
       "      <th>1</th>\n",
       "      <td>37</td>\n",
       "      <td>1</td>\n",
       "      <td>2</td>\n",
       "      <td>130</td>\n",
       "      <td>250</td>\n",
       "      <td>0</td>\n",
       "      <td>1</td>\n",
       "      <td>187</td>\n",
       "      <td>0</td>\n",
       "      <td>3.5</td>\n",
       "      <td>0</td>\n",
       "      <td>0</td>\n",
       "      <td>2</td>\n",
       "      <td>1</td>\n",
       "    </tr>\n",
       "    <tr>\n",
       "      <th>2</th>\n",
       "      <td>41</td>\n",
       "      <td>0</td>\n",
       "      <td>1</td>\n",
       "      <td>130</td>\n",
       "      <td>204</td>\n",
       "      <td>0</td>\n",
       "      <td>0</td>\n",
       "      <td>172</td>\n",
       "      <td>0</td>\n",
       "      <td>1.4</td>\n",
       "      <td>2</td>\n",
       "      <td>0</td>\n",
       "      <td>2</td>\n",
       "      <td>1</td>\n",
       "    </tr>\n",
       "    <tr>\n",
       "      <th>3</th>\n",
       "      <td>56</td>\n",
       "      <td>1</td>\n",
       "      <td>1</td>\n",
       "      <td>120</td>\n",
       "      <td>236</td>\n",
       "      <td>0</td>\n",
       "      <td>1</td>\n",
       "      <td>178</td>\n",
       "      <td>0</td>\n",
       "      <td>0.8</td>\n",
       "      <td>2</td>\n",
       "      <td>0</td>\n",
       "      <td>2</td>\n",
       "      <td>1</td>\n",
       "    </tr>\n",
       "    <tr>\n",
       "      <th>4</th>\n",
       "      <td>57</td>\n",
       "      <td>0</td>\n",
       "      <td>0</td>\n",
       "      <td>120</td>\n",
       "      <td>354</td>\n",
       "      <td>0</td>\n",
       "      <td>1</td>\n",
       "      <td>163</td>\n",
       "      <td>1</td>\n",
       "      <td>0.6</td>\n",
       "      <td>2</td>\n",
       "      <td>0</td>\n",
       "      <td>2</td>\n",
       "      <td>1</td>\n",
       "    </tr>\n",
       "  </tbody>\n",
       "</table>\n",
       "</div>"
      ],
      "text/plain": [
       "   age  sex  cp  trestbps  chol  fbs  restecg  thalach  exang  oldpeak  slope  \\\n",
       "0   63    1   3       145   233    1        0      150      0      2.3      0   \n",
       "1   37    1   2       130   250    0        1      187      0      3.5      0   \n",
       "2   41    0   1       130   204    0        0      172      0      1.4      2   \n",
       "3   56    1   1       120   236    0        1      178      0      0.8      2   \n",
       "4   57    0   0       120   354    0        1      163      1      0.6      2   \n",
       "\n",
       "   ca  thal  target  \n",
       "0   0     1       1  \n",
       "1   0     2       1  \n",
       "2   0     2       1  \n",
       "3   0     2       1  \n",
       "4   0     2       1  "
      ]
     },
     "execution_count": 3,
     "metadata": {}
],
   "source": [
    "heart=pd.read_csv('heart(Predict Heart Disease).csv')\n",
    "heart.head()"
   ]
  },
  {
   "cell_type": "raw",
   "id": "3b5a85a1",
   "metadata": {},
   "source": [
    "age - age in years\n",
    "sex - (1 = male; 0 = female)\n",
    "cp - chest pain type\n",
    "    0: Typical angina: chest pain related decrease blood supply to the heart\n",
    "    1: Atypical angina: chest pain not related to heart\n",
    "    2: Non-anginal pain: typically esophageal spasms (non heart related)\n",
    "    3: Asymptomatic: chest pain not showing signs of disease\n",
    "trestbps - resting blood pressure (in mm Hg on admission to the hospital) anything above 130-140 is typically cause for concern\n",
    "chol - serum cholestoral in mg/dl\n",
    "serum = LDL + HDL + .2 * triglycerides\n",
    "    above 200 is cause for concern\n",
    "    fbs - (fasting blood sugar > 120 mg/dl) (1 = true; 0 = false)\n",
    "    '>126' mg/dL signals diabetes\n",
    "restecg - resting electrocardiographic results\n",
    "    0: Nothing to note\n",
    "    1: ST-T Wave abnormality\n",
    "    can range from mild symptoms to severe problems\n",
    "    signals non-normal heart beat\n",
    "    2: Possible or definite left ventricular hypertrophy\n",
    "    Enlarged heart's main pumping chamber\n",
    "thalach - maximum heart rate achieved\n",
    "exang - exercise induced angina (1 = yes; 0 = no)\n",
    "oldpeak - ST depression induced by exercise relative to rest looks at stress of heart during excercise unhealthy heart will stress more\n",
    "slope - the slope of the peak exercise ST segment\n",
    "    0: Upsloping: better heart rate with excercise (uncommon)\n",
    "    1: Flatsloping: minimal change (typical healthy heart)\n",
    "    2: Downslopins: signs of unhealthy heart\n",
    "ca - number of major vessels (0-3) colored by flourosopy\n",
    "    colored vessel means the doctor can see the blood passing through\n",
    "    the more blood movement the better (no clots)\n",
    "thal - thalium stress result\n",
    "    1,3: normal\n",
    "    6: fixed defect: used to be defect but ok now\n",
    "    7: reversable defect: no proper blood movement when excercising\n",
    "target - have disease or not (1=yes, 0=no) (= the predicted attribute)"
   ]
  }
: [
    "# Exploratory Data Analysis  EDA"
   ]
  },
  {
   "cell_type": "code",
   "execution_count": 4,
   "id": "9a009519",
   "metadata": {},
   "outputs": [
    {
     "name": "stdout",
     "output_type": "stream",
     "text": [
      "<class 'pandas.core.frame.DataFrame'>\n",
      "RangeIndex: 303 entries, 0 to 302\n",
      "Data columns (total 14 columns):\n",
      " #   Column    Non-Null Count  Dtype  \n",
      "---  ------    --------------  -----  \n",
      " 0   age       303 non-null    int64  \n",
      " 1   sex       303 non-null    int64  \n",
      " 2   cp        303 non-null    int64  \n",
      " 3   trestbps  303 non-null    int64  \n",
      " 4   chol      303 non-null    int64  \n",
      " 5   fbs       303 non-null    int64  \n",
      " 6   restecg   303 non-null    int64  \n",
      " 7   thalach   303 non-null    int64  \n",
      " 8   exang     303 non-null    int64  \n",
      " 9   oldpeak   303 non-null    float64\n",
      " 10  slope     303 non-null    int64  \n",
      " 11  ca        303 non-null    int64  \n",
      " 12  thal      303 non-null    int64  \n",
      " 13  target    303 non-null    int64  \n",
      "dtypes: float64(1), int64(13)\n",
      "memory usage: 33.3 KB\n"
     ]
    }
   ],
   "source": [
    "heart.info()"
   ]
  }
: 6,
   "id": "8177c4cc",
   "metadata": {}
: [
    {
     "data": {
      "text/html": [
       "<div>\n",
       "<style scoped>\n",
       "    .dataframe tbody tr th:only-of-type {\n",
       "        vertical-align: middle;\n",
       "    }\n",
       "\n",
       "    .dataframe tbody tr th {\n",
       "        vertical-align: top;\n",
       "    }\n",
       "\n",
       "    .dataframe thead th {\n",
       "        text-align: right;\n",
       "    }\n",
       "</style>\n",
       "<table border=\"1\" class=\"dataframe\">\n",
       "  <thead>\n",
       "    <tr style=\"text-align: right;\">\n",
       "      <th></th>\n",
       "      <th>age</th>\n",
       "      <th>sex</th>\n",
       "      <th>cp</th>\n",
       "      <th>trestbps</th>\n",
       "      <th>chol</th>\n",
       "      <th>fbs</th>\n",
       "      <th>restecg</th>\n",
       "      <th>thalach</th>\n",
       "      <th>exang</th>\n",
       "      <th>oldpeak</th>\n",
       "      <th>slope</th>\n",
       "      <th>ca</th>\n",
       "      <th>thal</th>\n",
       "      <th>target</th>\n",
       "    </tr>\n",
       "  </thead>\n",
       "  <tbody>\n",
       "    <tr>\n",
       "      <th>count</th>\n",
       "      <td>303.000000</td>\n",
       "      <td>303.000000</td>\n",
       "      <td>303.000000</td>\n",
       "      <td>303.000000</td>\n",
       "      <td>303.000000</td>\n",
       "      <td>303.000000</td>\n",
       "      <td>303.000000</td>\n",
       "      <td>303.000000</td>\n",
       "      <td>303.000000</td>\n",
       "      <td>303.000000</td>\n",
       "      <td>303.000000</td>\n",
       "      <td>303.000000</td>\n",
       "      <td>303.000000</td>\n",
       "      <td>303.000000</td>\n",
       "    </tr>\n",
       "    <tr>\n",
       "      <th>mean</th>\n",
       "      <td>54.366337</td>\n",
       "      <td>0.683168</td>\n",
       "      <td>0.966997</td>\n",
       "      <td>131.623762</td>\n",
       "      <td>246.264026</td>\n",
       "      <td>0.148515</td>\n",
       "      <td>0.528053</td>\n",
       "      <td>149.646865</td>\n",
       "      <td>0.326733</td>\n",
       "      <td>1.039604</td>\n",
       "      <td>1.399340</td>\n",
       "      <td>0.729373</td>\n",
       "      <td>2.313531</td>\n",
       "      <td>0.544554</td>\n",
       "    </tr>\n",
       "    <tr>\n",
       "      <th>std</th>\n",
       "      <td>9.082101</td>\n",
       "      <td>0.466011</td>\n",
       "      <td>1.032052</td>\n",
       "      <td>17.538143</td>\n",
       "      <td>51.830751</td>\n",
       "      <td>0.356198</td>\n",
       "      <td>0.525860</td>\n",
       "      <td>22.905161</td>\n",
       "      <td>0.469794</td>\n",
       "      <td>1.161075</td>\n",
       "      <td>0.616226</td>\n",
       "      <td>1.022606</td>\n",
       "      <td>0.612277</td>\n",
       "      <td>0.498835</td>\n",
       "    </tr>\n",
       "    <tr>\n",
       "      <th>min</th>\n",
       "      <td>29.000000</td>\n",
       "      <td>0.000000</td>\n",
       "      <td>0.000000</td>\n",
       "      <td>94.000000</td>\n",
       "      <td>126.000000</td>\n",
       "      <td>0.000000</td>\n",
       "      <td>0.000000</td>\n",
       "      <td>71.000000</td>\n",
       "      <td>0.000000</td>\n",
       "      <td>0.000000</td>\n",
       "      <td>0.000000</td>\n",
       "      <td>0.000000</td>\n",
       "      <td>0.000000</td>\n",
       "      <td>0.000000</td>\n",
       "    </tr>\n",
       "    <tr>\n",
       "      <th>25%</th>\n",
       "      <td>47.500000</td>\n",
       "      <td>0.000000</td>\n",
       "      <td>0.000000</td>\n",
       "      <td>120.000000</td>\n",
       "      <td>211.000000</td>\n",
       "      <td>0.000000</td>\n",
       "      <td>0.000000</td>\n",
       "      <td>133.500000</td>\n",
       "      <td>0.000000</td>\n",
       "      <td>0.000000</td>\n",
       "      <td>1.000000</td>\n",
       "      <td>0.000000</td>\n",
       "      <td>2.000000</td>\n",
       "      <td>0.000000</td>\n",
       "    </tr>\n",
       "    <tr>\n",
       "      <th>50%</th>\n",
       "      <td>55.000000</td>\n",
       "      <td>1.000000</td>\n",
       "      <td>1.000000</td>\n",
       "      <td>130.000000</td>\n",
       "      <td>240.000000</td>\n",
       "      <td>0.000000</td>\n",
       "      <td>1.000000</td>\n",
       "      <td>153.000000</td>\n",
       "      <td>0.000000</td>\n",
       "      <td>0.800000</td>\n",
       "      <td>1.000000</td>\n",
       "      <td>0.000000</td>\n",
       "      <td>2.000000</td>\n",
       "      <td>1.000000</td>\n",
       "    </tr>\n",
       "    <tr>\n",
       "      <th>75%</th>\n",
       "      <td>61.000000</td>\n",
       "      <td>1.000000</td>\n",
       "      <td>2.000000</td>\n",
       "      <td>140.000000</td>\n",
       "      <td>274.500000</td>\n",
       "      <td>0.000000</td>\n",
       "      <td>1.000000</td>\n",
       "      <td>166.000000</td>\n",
       "      <td>1.000000</td>\n",
       "      <td>1.600000</td>\n",
       "      <td>2.000000</td>\n",
       "      <td>1.000000</td>\n",
       "      <td>3.000000</td>\n",
       "      <td>1.000000</td>\n",
       "    </tr>\n",
       "    <tr>\n",
       "      <th>max</th>\n",
       "      <td>77.000000</td>\n",
       "      <td>1.000000</td>\n",
       "      <td>3.000000</td>\n",
       "      <td>200.000000</td>\n",
       "      <td>564.000000</td>\n",
       "      <td>1.000000</td>\n",
       "      <td>2.000000</td>\n",
       "      <td>202.000000</td>\n",
       "      <td>1.000000</td>\n",
       "      <td>6.200000</td>\n",
       "      <td>2.000000</td>\n",
       "      <td>4.000000</td>\n",
       "      <td>3.000000</td>\n",
       "      <td>1.000000</td>\n",
       "    </tr>\n",
       "  </tbody>\n",
       "</table>\n",
       "</div>"
      ],
      "text/plain": [
       "              age         sex          cp    trestbps        chol         fbs  \\\n",
       "count  303.000000  303.000000  303.000000  303.000000  303.000000  303.000000   \n",
       "mean    54.366337    0.683168    0.966997  131.623762  246.264026    0.148515   \n",
       "std      9.082101    0.466011    1.032052   17.538143   51.830751    0.356198   \n",
       "min     29.000000    0.000000    0.000000   94.000000  126.000000    0.000000   \n",
       "25%     47.500000    0.000000    0.000000  120.000000  211.000000    0.000000   \n",
       "50%     55.000000    1.000000    1.000000  130.000000  240.000000    0.000000   \n",
       "75%     61.000000    1.000000    2.000000  140.000000  274.500000    0.000000   \n",
       "max     77.000000    1.000000    3.000000  200.000000  564.000000    1.000000   \n",
       "\n",
       "          restecg     thalach       exang     oldpeak       slope          ca  \\\n",
       "count  303.000000  303.000000  303.000000  303.000000  303.000000  303.000000   \n",
       "mean     0.528053  149.646865    0.326733    1.039604    1.399340    0.729373   \n",
       "std      0.525860   22.905161    0.469794    1.161075    0.616226    1.022606   \n",
       "min      0.000000   71.000000    0.000000    0.000000    0.000000    0.000000   \n",
       "25%      0.000000  133.500000    0.000000    0.000000    1.000000    0.000000   \n",
       "50%      1.000000  153.000000    0.000000    0.800000    1.000000    0.000000   \n",
       "75%      1.000000  166.000000    1.000000    1.600000    2.000000    1.000000   \n",
       "max      2.000000  202.000000    1.000000    6.200000    2.000000    4.000000   \n",
       "\n",
       "             thal      target  \n",
       "count  303.000000  303.000000  \n",
       "mean     2.313531    0.544554  \n",
       "std      0.612277    0.498835  \n",
       "min      0.000000    0.000000  \n",
       "25%      2.000000    0.000000  \n",
       "50%      2.000000    1.000000  \n",
       "75%      3.000000    1.000000  \n",
       "max      3.000000    1.000000  "
      ]
     },
     "execution_count": 6,
     "metadata": {},
     "output_type": "execute_result"
    }
],
   "source": [
    "heart.describe()"
   ]
  },
  {
   "cell_type": "code",
   "execution_count": 9,
   "id": "48c32160",
   "metadata": {
    "scrolled": true
   },
   "outputs": [
    {
     "name": "stdout",
     "output_type": "stream",
     "text": [
      "age\n",
      "------------\n",
      "[63 37 41 56 57 44 52 54 48 49 64 58 50 66 43 69 59 42 61 40 71 51 65 53\n",
      " 46 45 39 47 62 34 35 29 55 60 67 68 74 76 70 38 77]\n",
      "------------\n",
      "\n",
      "sex\n",
      "------------\n",
      "[1 0]\n",
      "------------\n",
      "\n",
      "cp\n",
      "------------\n",
      "[3 2 1 0]\n",
      "------------\n",
      "\n",
      "trestbps\n",
      "------------\n",
      "[145 130 120 140 172 150 110 135 160 105 125 142 155 104 138 128 108 134\n",
      " 122 115 118 100 124  94 112 102 152 101 132 148 178 129 180 136 126 106\n",
      " 156 170 146 117 200 165 174 192 144 123 154 114 164]\n",
      "------------\n",
      "\n",
      "chol\n",
      "------------\n",
      "[233 250 204 236 354 192 294 263 199 168 239 275 266 211 283 219 340 226\n",
      " 247 234 243 302 212 175 417 197 198 177 273 213 304 232 269 360 308 245\n",
      " 208 264 321 325 235 257 216 256 231 141 252 201 222 260 182 303 265 309\n",
      " 186 203 183 220 209 258 227 261 221 205 240 318 298 564 277 214 248 255\n",
      " 207 223 288 160 394 315 246 244 270 195 196 254 126 313 262 215 193 271\n",
      " 268 267 210 295 306 178 242 180 228 149 278 253 342 157 286 229 284 224\n",
      " 206 167 230 335 276 353 225 330 290 172 305 188 282 185 326 274 164 307\n",
      " 249 341 407 217 174 281 289 322 299 300 293 184 409 259 200 327 237 218\n",
      " 319 166 311 169 187 176 241 131]\n",
      "------------\n",
      "\n",
      "fbs\n",
      "------------\n",
      "[1 0]\n",
      "------------\n",
      "\n",
      "restecg\n",
      "------------\n",
      "[0 1 2]\n",
      "------------\n",
      "\n",
      "thalach\n",
      "------------\n",
      "[150 187 172 178 163 148 153 173 162 174 160 139 171 144 158 114 151 161\n",
      " 179 137 157 123 152 168 140 188 125 170 165 142 180 143 182 156 115 149\n",
      " 146 175 186 185 159 130 190 132 147 154 202 166 164 184 122 169 138 111\n",
      " 145 194 131 133 155 167 192 121  96 126 105 181 116 108 129 120 112 128\n",
      " 109 113  99 177 141 136  97 127 103 124  88 195 106  95 117  71 118 134\n",
      "  90]\n",
      "------------\n",
      "\n",
      "exang\n",
      "------------\n",
      "[0 1]\n",
      "------------\n",
      "\n",
      "oldpeak\n",
      "------------\n",
      "[2.3 3.5 1.4 0.8 0.6 0.4 1.3 0.  0.5 1.6 1.2 0.2 1.8 1.  2.6 1.5 3.  2.4\n",
      " 0.1 1.9 4.2 1.1 2.  0.7 0.3 0.9 3.6 3.1 3.2 2.5 2.2 2.8 3.4 6.2 4.  5.6\n",
      " 2.9 2.1 3.8 4.4]\n",
      "------------\n",
      "\n",
      "slope\n",
      "------------\n",
      "[0 2 1]\n",
      "------------\n",
      "\n",
      "ca\n",
      "------------\n",
      "[0 2 1 3 4]\n",
      "------------\n",
      "\n",
      "thal\n",
      "------------\n",
      "[1 2 3 0]\n",
      "------------\n",
      "\n",
      "target\n",
      "------------\n",
      "[1 0]\n",
      "------------\n",
      "\n"
     ]
    }
   ],
   "source": [
    "for col in heart.columns:\n",
    "    print(col,heart[col].unique(),'',sep='\\n------------\\n')"
   ]
  }
: [
    "# data preprocessing"
   ]
  },
  {
   "cell_type": "code",
   "execution_count": 21,
   "id": "9e0f51f4",
   "metadata": {
    "scrolled": true
   },
   "outputs": [
    {
     "data": {
      "image/png": "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\n",
      "text/plain": [
       "<Figure size 432x288 with 1 Axes>"
      ]
     },
     "metadata": {
      "needs_background": "light"
     },
     "output_type": "display_data"
    }
   ],
   "source": [
    "f=sns.countplot(x='target',data=heart,)\n",
    "for i in f.patches:\n",
    "    x= i.get_x()+i.get_width()/2\n",
    "    y= i.get_y()+i.get_height()\n",
    "    plt.annotate(i.get_height(),(x,y))"
   ]
  }
: [
    "##### observations:\n",
    "     1.We have 165 person with heart disease and 138 person without heart disease, so our problem is balanced."
   ]
  },
  {
   "cell_type": "code",
   "execution_count": 22,
   "id": "f811060f",
   "metadata": {},
   "outputs": [
    {
     "data": {
      "text/plain": [
       "Index(['age', 'sex', 'cp', 'trestbps', 'chol', 'fbs', 'restecg', 'thalach',\n",
       "       'exang', 'oldpeak', 'slope', 'ca', 'thal', 'target'],\n",
       "      dtype='object')"
      ]
     },
     "execution_count": 22,
     "metadata": {},
     "output_type": "execute_result"
    }
   ],
   "source": [
    "heart.columns"
   ]
  }
: 24,
   "id": "3e33d8b5",
   "metadata": {}
: [
    {
     "data": {
      "image/png": "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\n",
      "text/plain": [
       "<Figure size 432x288 with 1 Axes>"
      ]
     },
     "metadata": {
      "needs_background": "light"
     },
     "output_type": "display_data"
    }
: [
       "<Figure size 432x288 with 1 Axes>"
      ]
     },
     "metadata": {
      "needs_background": "light"
     }
: [
       "<Figure size 432x288 with 1 Axes>"
      ]
     },
     "metadata": {
      "needs_background": "light"
     }
: [
       "<Figure size 432x288 with 1 Axes>"
      ]
     },
     "metadata": {
      "needs_background": "light"
     }
: [
       "<Figure size 432x288 with 1 Axes>"
      ]
     },
     "metadata": {
      "needs_background": "light"
     }
: [
       "<Figure size 432x288 with 1 Axes>"
      ]
     },
     "metadata": {
      "needs_background": "light"
     }
: [
       "<Figure size 432x288 with 1 Axes>"
      ]
     },
     "metadata": {
      "needs_background": "light"
     }
: [
       "<Figure size 432x288 with 1 Axes>"
      ]
     },
     "metadata": {
      "needs_background": "light"
     }
],
   "source": [
    "for col in ['sex','cp','fbs','restecg','exang','slope','ca','thal']:\n",
    "    f=sns.countplot(x=col,data=heart,hue='target')\n",
    "    for i in f.patches:\n",
    "        x= i.get_x()+i.get_width()/2\n",
    "        y= i.get_y()+i.get_height()\n",
    "        plt.annotate(i.get_height(),(x,y))\n",
    "    plt.show()"
   ]
  },
  {
   "cell_type": "markdown",
   "id": "0d2bc783",
   "metadata": {},
   "source": [
    "##### observations:\n",
    "    1.cp {Chest Pain} : People with cp equl to 1, 2, 3 are more likely to have heart disease than people with cp equal to 0.\n",
    "    2.restecg {resting electrocardiographic results} : People with value 1 (signals non-normal heart beat, can range from mild symptoms to severe problems) are more likely to have heart disease.\n",
    "    3.exang {exercise induced angina} : People with value 0 (No ==> exercice induced angina) have heart disease more than people with value 1 (Yes ==> exercice induced angina)\n",
    "    4.slope {the slope of the peak exercise ST segment} : People with slope value equal to 2 (Downslopins: signs of unhealthy heart) are more likely to have heart disease than people with slope value equal to 0 (Upsloping: better heart rate with excercise) or 1 (Flatsloping: minimal change (typical healthy heart)).\n",
    "    5.ca {number of major vessels (0-3) colored by flourosopy} : the more blood movement the better so people with ca equal to 0 are more likely to have heart disease.\n",
    "    6.thal {thalium stress result} : People with thal value equal to 2 (fixed defect: used to be defect but ok now) are more likely to have heart disease."
   ]
  }
: 25,
   "id": "417d4000",
   "metadata": {}
: [
    {
     "data": {
      "text/plain": [
       "<AxesSubplot:>"
      ]
     },
     "execution_count": 25,
     "metadata": {},
     "output_type": "execute_result"
    }
: [
       "<Figure size 720x432 with 2 Axes>"
      ]
     },
     "metadata": {
      "needs_background": "light"
     }
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\n",
      "text/plain": [
       "<Figure size 2520x2520 with 210 Axes>"
      ]
     },
     "metadata": {
      "needs_background": "light"
     },
     "output_type": "display_data"
    }
   ],
   "source": [
    "sns.pairplot(heart,kind='reg')"
   ]
  }
: [
    "# 1. splitting teh data"
   ]
  },
  {
   "cell_type": "code",
   "execution_count": 28,
   "id": "ac956b82",
   "metadata": {},
   "outputs": [],
   "source": [
    "from sklearn.model_selection import train_test_split"
   ]
  }
: 29,
   "id": "c3a3637e",
   "metadata": {}
: [],
   "source": [
    "X = heart.drop('target', axis=1)\n",
    "y = heart.target"
   ]
  },
  {
   "cell_type": "code",
   "execution_count": 32,
   "id": "b9537f90",
   "metadata": {},
   "outputs": [
    {
     "data": {
      "text/plain": [
       "(303, 13)"
      ]
     },
     "execution_count": 32,
     "metadata": {},
     "output_type": "execute_result"
    }
   ],
   "source": [
    "X.shape"
   ]
  }
: 33,
   "id": "ca5bd25d",
   "metadata": {}
: [
    {
     "data": {
      "text/plain": [
       "(303,)"
      ]
     },
     "execution_count": 33,
     "metadata": {},
     "output_type": "execute_result"
    }
],
   "source": [
    "y.shape"
   ]
  },
  {
   "cell_type": "code",
   "execution_count": 36,
   "id": "ed110ed9",
   "metadata": {},
   "outputs": [],
   "source": [
    "xtrain, xtest, ytrain, ytest = train_test_split(X, y, test_size=0.2, random_state=10)"
   ]
  }
: 38,
   "id": "4699fa26",
   "metadata": {}
: [
    {
     "name": "stdout",
     "output_type": "stream",
     "text": [
      "<class 'pandas.core.frame.DataFrame'>\n",
      "Int64Index: 242 entries, 286 to 265\n",
      "Data columns (total 13 columns):\n",
      " #   Column    Non-Null Count  Dtype  \n",
      "---  ------    --------------  -----  \n",
      " 0   age       242 non-null    int64  \n",
      " 1   sex       242 non-null    int64  \n",
      " 2   cp        242 non-null    int64  \n",
      " 3   trestbps  242 non-null    int64  \n",
      " 4   chol      242 non-null    int64  \n",
      " 5   fbs       242 non-null    int64  \n",
      " 6   restecg   242 non-null    int64  \n",
      " 7   thalach   242 non-null    int64  \n",
      " 8   exang     242 non-null    int64  \n",
      " 9   oldpeak   242 non-null    float64\n",
      " 10  slope     242 non-null    int64  \n",
      " 11  ca        242 non-null    int64  \n",
      " 12  thal      242 non-null    int64  \n",
      "dtypes: float64(1), int64(12)\n",
      "memory usage: 26.5 KB\n",
      "None\n",
      "<class 'pandas.core.frame.DataFrame'>\n",
      "Int64Index: 61 entries, 246 to 283\n",
      "Data columns (total 13 columns):\n",
      " #   Column    Non-Null Count  Dtype  \n",
      "---  ------    --------------  -----  \n",
      " 0   age       61 non-null     int64  \n",
      " 1   sex       61 non-null     int64  \n",
      " 2   cp        61 non-null     int64  \n",
      " 3   trestbps  61 non-null     int64  \n",
      " 4   chol      61 non-null     int64  \n",
      " 5   fbs       61 non-null     int64  \n",
      " 6   restecg   61 non-null     int64  \n",
      " 7   thalach   61 non-null     int64  \n",
      " 8   exang     61 non-null     int64  \n",
      " 9   oldpeak   61 non-null     float64\n",
      " 10  slope     61 non-null     int64  \n",
      " 11  ca        61 non-null     int64  \n",
      " 12  thal      61 non-null     int64  \n",
      "dtypes: float64(1), int64(12)\n",
      "memory usage: 6.7 KB\n",
      "None\n"
     ]
    }
],
   "source": [
    "print(xtrain.info())\n",
    "print(xtest.info())"
   ]
  },
  {
   "cell_type": "code",
   "execution_count": 42,
   "id": "a2592fa0",
   "metadata": {},
   "outputs": [
    {
     "name": "stdout",
     "output_type": "stream",
     "text": [
      "(242,)\n",
      "(61,)\n"
     ]
    }
   ],
   "source": [
    "print(ytrain.shape)\n",
    "print(ytest.shape)"
   ]
  }
: [
    "# 2.creating the machine learing model"
   ]
  },
  {
   "cell_type": "code",
   "execution_count": 59,
   "id": "1aa6a990",
   "metadata": {},
   "outputs": [
    {
     "name": "stdout",
     "output_type": "stream",
     "text": [
      "77.0%\n",
      "86.0%\n"
     ]
    }
   ],
   "source": [
    "from sklearn.linear_model import LinearRegression\n",
    "\n",
    "\n",
    "model3 = LinearRegression()\n",
    "model3 .fit(xtrain, ytrain)\n",
    "\n",
    "print('%.1f%%'%(model.score(xtest,ytest)*100))\n",
    "print('%.1f%%'%(model.score(xtrain,ytrain)*100))"
   ]
  }
: 46,
   "id": "053f802c",
   "metadata": {}
: [],
   "source": [
    "def score(clf, X_train, y_train, X_test, y_test, train=True):\n",
    "    if train:\n",
    "        pred = clf.predict(X_train)\n",
    "        clf_report = pd.DataFrame(classification_report(y_train, pred, output_dict=True))\n",
    "        print(\"Train Result:\\n================================================\")\n",
    "        print(f\"Accuracy Score: {accuracy_score(y_train, pred) * 100:.2f}%\")\n",
    "        print(\"_______________________________________________\")\n",
    "        print(f\"CLASSIFICATION REPORT:\\n{clf_report}\")\n",
    "        print(\"_______________________________________________\")\n",
    "        print(f\"Confusion Matrix: \\n {confusion_matrix(y_train, pred)}\\n\")\n",
    "        \n",
    "    elif train==False:\n",
    "        pred = clf.predict(X_test)\n",
    "        clf_report = pd.DataFrame(classification_report(y_test, pred, output_dict=True))\n",
    "        print(\"Test Result:\\n================================================\")        \n",
    "        print(f\"Accuracy Score: {accuracy_score(y_test, pred) * 100:.2f}%\")\n",
    "        print(\"_______________________________________________\")\n",
    "        print(f\"CLASSIFICATION REPORT:\\n{clf_report}\")\n",
    "        print(\"_______________________________________________\")\n",
    "        print(f\"Confusion Matrix: \\n {confusion_matrix(y_test, pred)}\\n\")"
   ]
  },
  {
   "cell_type": "code",
   "execution_count": 49,
   "id": "a8f04d82",
   "metadata": {},
   "outputs": [],
   "source": [
    "from sklearn.linear_model import LogisticRegression\n",
    "from sklearn.metrics import accuracy_score, confusion_matrix, classification_report"
   ]
  }
: 52,
   "id": "82963baa",
   "metadata": {}
: [
    {
     "name": "stdout",
     "output_type": "stream",
     "text": [
      "Train Result:\n",
      "================================================\n",
      "Accuracy Score: 85.95%\n",
      "_______________________________________________\n",
      "CLASSIFICATION REPORT:\n",
      "                    0           1  accuracy   macro avg  weighted avg\n",
      "precision    0.870968    0.852349  0.859504    0.861658      0.860274\n",
      "recall       0.786408    0.913669  0.859504    0.850038      0.859504\n",
      "f1-score     0.826531    0.881944  0.859504    0.854238      0.858359\n",
      "support    103.000000  139.000000  0.859504  242.000000    242.000000\n",
      "_______________________________________________\n",
      "Confusion Matrix: \n",
      " [[ 81  22]\n",
      " [ 12 127]]\n",
      "\n",
      "Test Result:\n",
      "================================================\n",
      "Accuracy Score: 77.05%\n",
      "_______________________________________________\n",
      "CLASSIFICATION REPORT:\n",
      "                   0          1  accuracy  macro avg  weighted avg\n",
      "precision   0.838710   0.700000  0.770492   0.769355      0.779588\n",
      "recall      0.742857   0.807692  0.770492   0.775275      0.770492\n",
      "f1-score    0.787879   0.750000  0.770492   0.768939      0.771734\n",
      "support    35.000000  26.000000  0.770492  61.000000     61.000000\n",
      "_______________________________________________\n",
      "Confusion Matrix: \n",
      " [[26  9]\n",
      " [ 5 21]]\n",
      "\n"
     ]
    }
],
   "source": [
    "model = LogisticRegression(solver='liblinear')\n",
    "model.fit(xtrain, ytrain)\n",
    "\n",
    "score(model, xtrain, ytrain, xtest, ytest, train=True)\n",
    "score(model, xtrain, ytrain, xtest, ytest, train=False)"
   ]
  },
  {
   "cell_type": "code",
   "execution_count": 67,
   "id": "04ba3a60",
   "metadata": {},
   "outputs": [
    {
     "name": "stdout",
     "output_type": "stream",
     "text": [
      "77.0%\n",
      "86.0%\n"
     ]
    }
   ],
   "source": [
    "test_score ='%.1f%%'%(model.score(xtest,ytest)*100)\n",
    "train_score ='%.1f%%'%(model.score(xtrain,ytrain)*100)\n",
    "print(test_score)\n",
    "print(train_score)"
   ]
  }
: 55,
   "id": "5d7fde4e",
   "metadata": {}
: [
    {
     "name": "stdout",
     "output_type": "stream",
     "text": [
      "Train Result:\n",
      "================================================\n",
      "Accuracy Score: 100.00%\n",
      "_______________________________________________\n",
      "CLASSIFICATION REPORT:\n",
      "               0      1  accuracy  macro avg  weighted avg\n",
      "precision    1.0    1.0       1.0        1.0           1.0\n",
      "recall       1.0    1.0       1.0        1.0           1.0\n",
      "f1-score     1.0    1.0       1.0        1.0           1.0\n",
      "support    103.0  139.0       1.0      242.0         242.0\n",
      "_______________________________________________\n",
      "Confusion Matrix: \n",
      " [[103   0]\n",
      " [  0 139]]\n",
      "\n",
      "Test Result:\n",
      "================================================\n",
      "Accuracy Score: 78.69%\n",
      "_______________________________________________\n",
      "CLASSIFICATION REPORT:\n",
      "                   0          1  accuracy  macro avg  weighted avg\n",
      "precision   0.892857   0.696970  0.786885   0.794913      0.809364\n",
      "recall      0.714286   0.884615  0.786885   0.799451      0.786885\n",
      "f1-score    0.793651   0.779661  0.786885   0.786656      0.787688\n",
      "support    35.000000  26.000000  0.786885  61.000000     61.000000\n",
      "_______________________________________________\n",
      "Confusion Matrix: \n",
      " [[25 10]\n",
      " [ 3 23]]\n",
      "\n"
     ]
    }
],
   "source": [
    "from sklearn.tree import DecisionTreeClassifier\n",
    "\n",
    "\n",
    "model2 = DecisionTreeClassifier(random_state=42)\n",
    "model2 .fit(xtrain, ytrain)\n",
    "\n",
    "score(model2 , xtrain, ytrain, xtest, ytest, train=True)\n",
    "score(model2 ,xtrain, ytrain, xtest, ytest, train=False)"
   ]
  },
  {
   "cell_type": "code",
   "execution_count": 68,
   "id": "1f73a42a",
   "metadata": {},
   "outputs": [
    {
     "name": "stdout",
     "output_type": "stream",
     "text": [
      "78.7%\n",
      "100.0%\n"
     ]
    }
   ],
   "source": [
    "test_score ='%.1f%%'%(model2.score(xtest,ytest)*100)\n",
    "train_score ='%.1f%%'%(model2.score(xtrain,ytrain)*100)\n",
    "print(test_score)\n",
    "print(train_score)"
   ]
  }
: 71,
   "id": "a05280b6",
   "metadata": {}
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\n",
      "text/plain": [
       "<Figure size 2160x2520 with 1 Axes>"
      ]
     },
     "metadata": {
      "needs_background": "light"
     },
     "output_type": "display_data"
    }
],
   "source": [
    "from sklearn.tree import plot_tree\n",
    "plt.figure(figsize=(30,35))\n",
    "f = plot_tree(model2, feature_names=X.columns, filled=True, fontsize=10, node_ids=True,class_names=True)\n",
    "for ff in f:\n",
    "    arrow = ff.arrow_patch\n",
    "    if arrow is not None:\n",
    "        arrow.set_edgecolor('black')\n",
    "        arrow.set_linewidth(2)"
   ]
  },
  {
   "cell_type": "code",
   "execution_count": null,
   "id": "060c740d",
   "metadata": {},
   "outputs": [],
   "source": []
  }
],
 "metadata": {
  "kernelspec": {
   "display_name": "Python 3",
   "language": "python",
   "name": "python3"
  },
  "language_info": {
   "codemirror_mode": {
    "name": "ipython",
    "version": 3
   },
   "file_extension": ".py",
   "mimetype": "text/x-python",
   "name": "python",
   "nbconvert_exporter": "python",
   "pygments_lexer": "ipython3",
   "version": "3.8.8"
  }
 }
: 4,
 "nbformat_minor": 5
}


 /* Font Definitions */
 @font-face
	{font-family:"Cambria Math";
	panose-1:2 4 5 3 5 4 6 3 2 4;
	mso-font-charset:1;
	mso-generic-font-family:roman;
	mso-font-format:other;
	mso-font-pitch:variable;
	mso-font-signature:0 0 0 0 0 0;}
 /* Style Definitions */
 p.MsoNormal, li.MsoNormal, div.MsoNormal
	{mso-style-unhide:no;
	mso-style-qformat:yes;
	mso-style-parent:"";
	margin:0cm;
	margin-bottom:.0001pt;
	mso-pagination:widow-orphan;
	font-size:12.0pt;
	font-family:"Times New Roman","serif";
	mso-fareast-font-family:"Times New Roman";
	mso-fareast-theme-font:minor-fareast;}
span.SpellE
	{mso-style-name:"";
	mso-spl-e:yes;}
span.GramE
	{mso-style-name:"";
	mso-gram-e:yes;}
.MsoChpDefault
	{mso-style-type:export-only;
	mso-default-props:yes;
	font-size:10.0pt;
	mso-ansi-font-size:10.0pt;
	mso-bidi-font-size:10.0pt;}
@page WordSection1
	{size:612.0pt 792.0pt;
	margin:72.0pt 72.0pt 72.0pt 72.0pt;
	mso-header-margin:35.4pt;
	mso-footer-margin:35.4pt;
	mso-paper-source:0;}
div.WordSection1
	{page:WordSection1;}
-->
</style>
<!--[if gte mso 10]>
<style>
 /* Style Definitions */
 table.MsoNormalTable
	{mso-style-name:"Table Normal";
	mso-tstyle-rowband-size:0;
	mso-tstyle-colband-size:0;
	mso-style-noshow:yes;
	mso-style-priority:99;
	mso-style-qformat:yes;
	mso-style-parent:"";
	mso-padding-alt:0cm 5.4pt 0cm 5.4pt;
	mso-para-margin:0cm;
	mso-para-margin-bottom:.0001pt;
	mso-pagination:widow-orphan;
	font-size:10.0pt;
	font-family:"Times New Roman","serif";}
</style>
<![endif]--><!--[if gte mso 9]><xml>
 <o:shapedefaults v:ext="edit" spidmax="2050"/>
</xml><![endif]--><!--[if gte mso 9]><xml>
 <o:shapelayout v:ext="edit">
  <o:idmap v:ext="edit" data="1"/>
 </o:shapelayout></xml><![endif]-->
</head>

<body lang=EN-US style='tab-interval:36.0pt'>

<div class=WordSection1>

<p class=MsoNormal><span style='mso-fareast-font-family:"Times New Roman"'>{
&quot;cells&quot;: [ { &quot;<span class=SpellE>cell_type</span>&quot;:
&quot;markdown&quot;, &quot;id&quot;: &quot;895e7331&quot;,
&quot;metadata&quot;: {}, &quot;source&quot;: [ &quot;# Make a Machine Learning
model to predict whether or not they have heart disease?\n&quot; ] }, { &quot;<span
class=SpellE>cell_type</span>&quot;: &quot;code&quot;, &quot;<span
class=SpellE>execution_count</span>&quot;: 1, &quot;id&quot;:
&quot;0e351ca0&quot;, &quot;metadata&quot;: {}, &quot;outputs&quot;: [],
&quot;source&quot;: [ &quot;import pandas as pd\n&quot;, &quot;import <span
class=SpellE>matplotlib.pyplot</span> as <span class=SpellE>plt</span>\n&quot;,
&quot;import <span class=SpellE>seaborn</span> as <span class=SpellE>sns</span>\n&quot;,
&quot;import <span class=SpellE>numpy</span> as <span class=SpellE>np</span>&quot;
] }, { &quot;<span class=SpellE>cell_type</span>&quot;: &quot;code&quot;,
&quot;<span class=SpellE>execution_count</span>&quot;: 3, &quot;id&quot;:
&quot;1baeee55&quot;, &quot;metadata&quot;: {}, &quot;outputs&quot;: [ {
&quot;data&quot;: { &quot;text/html&quot;: [ &quot;<o:p></o:p></span></p>

<div>

<p class=MsoNormal><span style='mso-fareast-font-family:"Times New Roman"'>\n&quot;<span
class=GramE>, &quot;</span><o:p></o:p></span></p>

</div>

</div>

</body>

</html>
