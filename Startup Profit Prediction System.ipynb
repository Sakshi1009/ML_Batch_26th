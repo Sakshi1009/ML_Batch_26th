{
 "cells": [
  {
   "cell_type": "code",
   "execution_count": 1,
   "id": "dfb6f437-c138-44e9-9d0b-58f5aea0cb60",
   "metadata": {},
   "outputs": [],
   "source": [
    "import pandas as pd\n",
    "from sklearn.model_selection import train_test_split\n",
    "from sklearn.linear_model import LinearRegression\n",
    "from sklearn.metrics import mean_absolute_error"
   ]
  },
  {
   "cell_type": "code",
   "execution_count": 2,
   "id": "b8729b04-912c-4247-a097-a48bfc18479f",
   "metadata": {},
   "outputs": [],
   "source": [
    "startup=pd.read_csv('50_Startups.csv')\n",
    "x=startup[['R&D Spend', 'Administration', 'Marketing Spend']]\n",
    "y=startup['Profit']\n",
    "xtrain , xtest,ytrain,ytest=train_test_split(x,y,test_size=0.25,random_state=10)\n",
    "model1=LinearRegression().fit(xtrain,ytrain)\n",
    "model1.coef_\n",
    "pd.DataFrame(model1.coef_,columns=['coef_'],index=x.columns)\n",
    "ypred=model1.predict(xtest)\n",
    "final_model=model1\n",
    "pd.to_pickle(final_model,'StartupProfitPrediction')\n",
    "model=pd.read_pickle('StartupProfitPrediction')\n"
   ]
  },
  {
   "cell_type": "code",
   "execution_count": 3,
   "id": "6ddea22f-596a-43e0-8e46-9f5fe92b0640",
   "metadata": {},
   "outputs": [],
   "source": [
    "import tkinter as tk\n",
    "app=tk.Tk()\n",
    "app.geometry(\"400x250\")\n",
    "app.configure(bg='#34568B')\n",
    "app.title('Startup Profit Prediction')\n",
    "\n",
    "RandD_Spend=tk.StringVar()\n",
    "Administration=tk.StringVar()\n",
    "Marketing_Spend=tk.StringVar()\n"
   ]
  },
  {
   "cell_type": "code",
   "execution_count": 4,
   "id": "3f3ac714-6e59-4394-a87a-b88da3c98029",
   "metadata": {},
   "outputs": [],
   "source": [
    "tk.Label(app,text=\"RandD Spend\",bg='#34568B').place(x=20,y=30)\n",
    "tk.Label(app,text=\"Administration\",bg='#34568B').place(x=20,y=60)\n",
    "tk.Label(app,text=\"Marketing Spend\",bg='#34568B').place(x=20,y=90)\n"
   ]
  },
  {
   "cell_type": "code",
   "execution_count": 5,
   "id": "3b699ed3-0f97-4aca-af40-1f2a5cf4497f",
   "metadata": {},
   "outputs": [],
   "source": [
    "tk.Entry(app,width=30,bg=\"#ffffff\",textvariable=RandD_Spend).place(x=150,y=30)\n",
    "tk.Entry(app,width=30,bg=\"#ffffff\",textvariable=Administration).place(x=150,y=60)\n",
    "tk.Entry(app,width=30,bg=\"#ffffff\",textvariable=Marketing_Spend).place(x=150,y=90)\n"
   ]
  },
  {
   "cell_type": "code",
   "execution_count": 6,
   "id": "446b089e-af0a-4ab0-aa68-45106ff6f2a6",
   "metadata": {},
   "outputs": [],
   "source": [
    "def Predict_the_profit():\n",
    "    r=RandD_Spend.get()\n",
    "    a=Administration.get()\n",
    "    m=Marketing_Spend.get()\n",
    "    RandD_Spend.set('')\n",
    "    Administration.set('')\n",
    "    Marketing_Spend.set('')\n",
    "    query=pd.DataFrame({'R&D_Spend':[r],\n",
    "                    'Administration':[a],\n",
    "                    'Marketing_Spend':[m],\n",
    "                   })"
   ]
  },
  {
   "cell_type": "code",
   "execution_count": null,
   "id": "35a7bd74-d5f1-472f-8506-fb0529ab81d7",
   "metadata": {},
   "outputs": [],
   "source": [
    " Predict_the_profit_var=tk.Variable(app)\n",
    "    Predict_the_profit_var.set('%.1f'%(model.predict(query)[0]))\n",
    "    \n",
    "    \n",
    "    Predict_the_profit=tk.Label(app,text='profit for the startup can be :',bg='#34568B',font=('Bahnschrift SemiBold', 10, 'bold')).place(x=30,y=200)\n",
    "    Predict_the_profit=tk.Label(app,text =\"price for the startup can be :\",textvariable=Predict_the_profit_var,bg='#34568B',font=('Bahnschrift SemiBold', 10, 'bold')).place(x=200,y=200)\n",
    "\n",
    "tk.Button(app,text='Predict the profit',command=Predict_the_profit).place(x=150,y=150)\n",
    "\n",
    "app.mainloop()"
   ]
  },
  {
   "cell_type": "code",
   "execution_count": null,
   "id": "7f7445d9-8aa2-4700-a6b9-0f92db6963ec",
   "metadata": {},
   "outputs": [],
   "source": []
  }
 ],
 "metadata": {
  "kernelspec": {
   "display_name": "Python 3",
   "language": "python",
   "name": "python3"
  },
  "language_info": {
   "codemirror_mode": {
    "name": "ipython",
    "version": 3
   },
   "file_extension": ".py",
   "mimetype": "text/x-python",
   "name": "python",
   "nbconvert_exporter": "python",
   "pygments_lexer": "ipython3",
   "version": "3.8.8"
  }
 },
 "nbformat": 4,
 "nbformat_minor": 5
}
